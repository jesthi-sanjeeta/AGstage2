{
  "nbformat": 4,
  "nbformat_minor": 0,
  "metadata": {
    "colab": {
      "name": "Applied Tech. Project 39 - Solution copy_v1",
      "provenance": [],
      "collapsed_sections": [],
      "include_colab_link": true
    },
    "kernelspec": {
      "name": "python3",
      "display_name": "Python 3"
    }
  },
  "cells": [
    {
      "cell_type": "markdown",
      "metadata": {
        "id": "view-in-github",
        "colab_type": "text"
      },
      "source": [
        "<a href=\"https://colab.research.google.com/github/jesthi-sanjeeta/AGstage2/blob/master/Project39_Applied_Tech_Project_39_Solution_copy_v1.ipynb\" target=\"_parent\"><img src=\"https://colab.research.google.com/assets/colab-badge.svg\" alt=\"Open In Colab\"/></a>"
      ]
    },
    {
      "cell_type": "markdown",
      "metadata": {
        "id": "YZnBY81YDCCr"
      },
      "source": [
        "### Instructions"
      ]
    },
    {
      "cell_type": "markdown",
      "metadata": {
        "id": "fIKnY8occu37"
      },
      "source": [
        "#### Goal of the Project\n",
        "\n",
        "This project is designed for you to practice and solve the activities that are based on the concepts covered in the following lessons:\n",
        "\n",
        "1. String Operations\n",
        "\n",
        "\n"
      ]
    },
    {
      "cell_type": "markdown",
      "metadata": {
        "id": "BBqkpH4_Doqe"
      },
      "source": [
        "---"
      ]
    },
    {
      "cell_type": "markdown",
      "metadata": {
        "id": "H0P9F3DUf8x2"
      },
      "source": [
        "### Activities\n",
        "\n",
        "\n",
        "  "
      ]
    },
    {
      "cell_type": "markdown",
      "metadata": {
        "id": "BVT9G_baB1aq"
      },
      "source": [
        "#### Activity 1: Capital Split\n",
        "\n",
        "Create a function (let's say `cap_space()`) which adds spaces before every capital letter in the word. Uncapitalize the whole string afterwards.\n",
        "\n",
        "**Constraint:**\n",
        "\n",
        "- The first letter will stay uncapitalized.\n",
        "\n",
        "**Examples:**\n",
        "```\n",
        "1. cap_space(\"helloWorld\") ➞ \"hello world\"\n",
        "\n",
        "2. cap_space(\"iLoveMyTeapot\") ➞ \"i love my teapot\"\n",
        "\n",
        "3. cap_space(\"stayIndoors\") ➞ \"stay indoors\"\n",
        "```\n",
        "\n",
        "**Hint:** Use `isupper()` and `lower()` functions.\n",
        "\n",
        "\n"
      ]
    },
    {
      "cell_type": "code",
      "metadata": {
        "id": "0pIGxKG9B3mb",
        "colab": {
          "base_uri": "https://localhost:8080/",
          "height": 34
        },
        "outputId": "e39ad973-e0ed-4ba1-aa8f-1d725866aa30"
      },
      "source": [
        "# Solution\n",
        "def cap_space(txt):\n",
        "  res = \"\"\n",
        "  for i in txt:\n",
        "    if i.isupper():\n",
        "      res = res + \" \" + i.lower()\n",
        "    else:\n",
        "      res = res + i\n",
        "  return res\n",
        "\n",
        "cap_space(\"stayIndoors\")"
      ],
      "execution_count": null,
      "outputs": [
        {
          "output_type": "execute_result",
          "data": {
            "application/vnd.google.colaboratory.intrinsic+json": {
              "type": "string"
            },
            "text/plain": [
              "'stay indoors'"
            ]
          },
          "metadata": {
            "tags": []
          },
          "execution_count": 1
        }
      ]
    },
    {
      "cell_type": "markdown",
      "metadata": {
        "id": "z2vDEItoB8yW"
      },
      "source": [
        "In the above program, we have passed `txt` as a parameter inside the `cap_space()` function where `txt` is the text to be splitted. \n",
        "\n",
        "Inside this function, we have stored an empty string in variable `res`.\n",
        "\n",
        "Then we are running a `for` loop for iterating through each letter in the `txt`, then using the `isupper()` function in the `if` condition we are checking whether the letter is capital or not.\n",
        "\n",
        "  - If the letter is capital then we are adding a blank space and converting that particular letter to lowercase using the `lower()` function.\n",
        "\n",
        "  - Otherwise we are simply adding the letters to the `res` variable one by one.\n",
        "\n",
        "Finally, we are printing the result stored in `res` variable using `return` statement."
      ]
    },
    {
      "cell_type": "markdown",
      "metadata": {
        "id": "IJIZASayCpEW"
      },
      "source": [
        "---"
      ]
    },
    {
      "cell_type": "markdown",
      "metadata": {
        "id": "5kBinzKxn3hd"
      },
      "source": [
        "#### Activity 2: Date Format\n",
        "\n",
        "Create a function that converts a date formatted as `MM/DD/YYYY` to `YYYYDDMM`.\n",
        "\n",
        "**Notes**:\n",
        "\n",
        "Return value should be a string.\n",
        "\n",
        "**Examples**\n",
        "```\n",
        "format_date(\"11/12/2019\") ➞ \"20191211\"\n",
        "\n",
        "format_date(\"12/31/2019\") ➞ \"20193112\"\n",
        "\n",
        "format_date(\"01/15/2019\") ➞ \"20191501\"\n",
        "```\n",
        "**Hint:** Use `split()`and `join()` functions."
      ]
    },
    {
      "cell_type": "code",
      "metadata": {
        "id": "4gjDvOhzn6TL",
        "colab": {
          "base_uri": "https://localhost:8080/",
          "height": 34
        },
        "outputId": "b861aa91-eeb4-4281-c9e1-8c51451b82fa"
      },
      "source": [
        "# Solution\n",
        "def format_date(date):\n",
        "\tm, d, y = date.split('/')\n",
        "\treturn ''.join((y, d, m))\n",
        "\n",
        "format_date(\"01/15/2019\") "
      ],
      "execution_count": null,
      "outputs": [
        {
          "output_type": "execute_result",
          "data": {
            "application/vnd.google.colaboratory.intrinsic+json": {
              "type": "string"
            },
            "text/plain": [
              "'20191501'"
            ]
          },
          "metadata": {
            "tags": []
          },
          "execution_count": 2
        }
      ]
    },
    {
      "cell_type": "markdown",
      "metadata": {
        "id": "T5cZ7LwwqgnN"
      },
      "source": [
        "In the above program we have passed the `date` (the date to be converted) as a parameter inside the `format_date()` function.\n",
        " \n",
        "  1. Inside this function, we have separately stored the value of month, day, year in three separate variables by splitting the value in `date` by `/` using  the `split()` function.\n",
        "\n",
        "  2. Then while printing the result, as we need the string in the format of `YYYYDDMM` we are passing the values of `y`, `d` and `m` inside the `join()` function."
      ]
    },
    {
      "cell_type": "markdown",
      "metadata": {
        "id": "MWkPEALQn-lN"
      },
      "source": [
        "---"
      ]
    }
  ]
}