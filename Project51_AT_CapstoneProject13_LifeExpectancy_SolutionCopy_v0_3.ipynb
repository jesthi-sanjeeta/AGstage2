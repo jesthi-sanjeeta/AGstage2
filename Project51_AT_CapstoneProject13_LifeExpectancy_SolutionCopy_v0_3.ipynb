{
  "nbformat": 4,
  "nbformat_minor": 0,
  "metadata": {
    "colab": {
      "name": "AT_CapstoneProject13_LifeExpectancy_SolutionCopy_v0.3.ipynb",
      "provenance": [],
      "collapsed_sections": [],
      "include_colab_link": true
    },
    "kernelspec": {
      "name": "python3",
      "display_name": "Python 3"
    }
  },
  "cells": [
    {
      "cell_type": "markdown",
      "metadata": {
        "id": "view-in-github",
        "colab_type": "text"
      },
      "source": [
        "<a href=\"https://colab.research.google.com/github/jesthi-sanjeeta/AGstage2/blob/master/Project51_AT_CapstoneProject13_LifeExpectancy_SolutionCopy_v0_3.ipynb\" target=\"_parent\"><img src=\"https://colab.research.google.com/assets/colab-badge.svg\" alt=\"Open In Colab\"/></a>"
      ]
    },
    {
      "cell_type": "markdown",
      "metadata": {
        "id": "OocTROo-irrt"
      },
      "source": [
        "# Capstone Project 13: Life Expectancy Analysis\n"
      ]
    },
    {
      "cell_type": "markdown",
      "metadata": {
        "id": "wOmN35jdQO68"
      },
      "source": [
        "### Context\n",
        "\n",
        "The term **Life Expectancy** refers to the number of years a person can expect to live. It is based on an estimate of the average age of a population when they die. Life expectancy is one of the key metrics used for assessing the overall health of a population. \n",
        "\n",
        " The Global Health Observatory (GHO) data repository under the World Health Organization (WHO) keeps track of the health status as well as many other related factors for all countries. It has been observed that in the past 15 years, there is a huge development in the health sector resulting in the improvement of human mortality rates. The increases are nearly universal, from the richest to the poorest countries. Let's dive deeper into the life expectancy dataset and find out how different factors influence your life expectancy.\n",
        "\n",
        "\n"
      ]
    },
    {
      "cell_type": "markdown",
      "metadata": {
        "id": "DiBKzIYpWCzp"
      },
      "source": [
        "---"
      ]
    },
    {
      "cell_type": "markdown",
      "metadata": {
        "id": "zTSyVg4PqLI3"
      },
      "source": [
        "### Problem Statement\n",
        "\n",
        "As the head of a leading life insurance company, your job is to formulate  global health insurance coverage plans and devise different life insurance solutions for different countries. For this, you need to obtain insightful trends and patterns in people's dying age across different countries. Also, you need to determine the factors that affect the average life expectancy of the people around the world to determine the premium rates for insurance policies."
      ]
    },
    {
      "cell_type": "markdown",
      "metadata": {
        "id": "5AyRRYmTR3N7"
      },
      "source": [
        "---"
      ]
    },
    {
      "cell_type": "markdown",
      "metadata": {
        "id": "OvuklseNQkid"
      },
      "source": [
        "### Data Description\n",
        "\n",
        "This dataset contains life expectancy data and health factors for 193 countries from the year 2000-2015 which was collected from the WHO data repository website and its corresponding economic data was collected from the United Nation website. It consists of 22 columns and 2938 rows.\n",
        "\n",
        "|Field|Description|\n",
        "|---:|:---|\n",
        "|Country|Country|\n",
        "|Year|Year|\n",
        "|Status|Developed or Developing|\n",
        "|Life expectancy|Life Expectancy in years|\n",
        "|Adult Mortality|Adult Mortality Rates of both sexes (probability of dying between 15 and 60 years per 1000 population)|\n",
        "|infant deaths|Number of Infant Deaths per 1000 population|\n",
        "|Alcohol|Alcohol, recorded per capita (15+) consumption|\n",
        "|percentage expenditure|Expenditure on health as a percent of GDP per capita (%)|\n",
        "|Hepatitis B|Hepatitis B (HepB) immunization coverage among 1-year-olds (%)|\n",
        "|Measles|Measles - number of reported cases per 1000 population|\n",
        "|BMI|Average Body Mass Index of the entire population|\n",
        "|under-five deaths|Number of under-five deaths per 1000 population|\n",
        "|Polio|Polio (Pol3) immunization coverage among 1-year-olds (%)|\n",
        "|Total expenditure|General government expenditure on health (%)|\n",
        "|Diphtheria|Diphtheria tetanus toxoid and pertussis (DTP3) immunization coverage among 1-year-olds (%)|\n",
        "|HIV/AIDS|Deaths per 1000 live births HIV/AIDS (0-4 years)|\n",
        "|GDP|Gross Domestic Product per capita (in USD)|\n",
        "|Population|Population of the country|\n",
        "|thinness 1-19 years|Prevalence of thinness among children and adolescents for Age 10 to 19 (%)|\n",
        "|thinness 5-9 years|Prevalence of thinness among children for Age 5 to 9 (%)|\n",
        "|Income composition of resources|Productive use of resources|\n",
        "|Schooling|Number of years of Schooling(years)|\n",
        "\n",
        "Here's the dataset link:\n",
        "\n",
        "https://s3-student-datasets-bucket.whjr.online/whitehat-ds-datasets/life-expectancy/life-expectancy.csv"
      ]
    },
    {
      "cell_type": "markdown",
      "metadata": {
        "id": "wmta0mCwWB0e"
      },
      "source": [
        "---"
      ]
    },
    {
      "cell_type": "markdown",
      "metadata": {
        "id": "MD9GPoDvD9Sh"
      },
      "source": [
        "### Things To Do\n",
        "\n",
        "- Rename the columns since most of them contain leading and trailing spaces. Some columns contain a few missing values. Treat them accordingly. \n",
        "\n",
        "- Find the answer to the following questions:\n",
        "\n",
        "  1. Is there a rise in the average life expectancy around the world in a period of 15 years, i.e., from 2000 - 2015?\n",
        "\n",
        "  2. Do developing countries have a lower life expectancy as compared to the developed countries?\n",
        "  \n",
        "  3. Calculate how many countries had extremely low life expectancy, i.e., less than 60 years. List those countries.\n",
        "\n",
        "  4. What are the most critical factors affecting life expectancy?\n"
      ]
    },
    {
      "cell_type": "markdown",
      "metadata": {
        "id": "1_0f8iFLVzir"
      },
      "source": [
        "---"
      ]
    },
    {
      "cell_type": "markdown",
      "metadata": {
        "id": "bQT8lQviaQwX"
      },
      "source": [
        "#### 1. Import Modules & Load Dataset\n",
        "\n",
        "Import the `numpy`, `pandas`, `matplotlib.pyplot` and `seaborn` modules and create a DataFrame using the `read_csv()` function of the `pandas` module."
      ]
    },
    {
      "cell_type": "code",
      "metadata": {
        "id": "Y62VnVV3SjwN",
        "colab": {
          "base_uri": "https://localhost:8080/",
          "height": 309
        },
        "outputId": "f7343aa0-e9d7-4624-c38f-4a93c0bba73b"
      },
      "source": [
        "# Import the required modules and load the dataset.\n",
        "# Dataset Link: https://s3-student-datasets-bucket.whjr.online/whitehat-ds-datasets/life-expectancy/life-expectancy.csv \n",
        "import numpy as np\n",
        "import pandas as pd\n",
        "\n",
        "from matplotlib import pyplot as plt\n",
        "import seaborn as sns\n",
        "\n",
        "file_path = 'https://s3-student-datasets-bucket.whjr.online/whitehat-ds-datasets/life-expectancy/life-expectancy.csv'\n",
        "df = pd.read_csv(file_path)\n",
        "df.head()"
      ],
      "execution_count": null,
      "outputs": [
        {
          "output_type": "stream",
          "text": [
            "/usr/local/lib/python3.6/dist-packages/statsmodels/tools/_testing.py:19: FutureWarning: pandas.util.testing is deprecated. Use the functions in the public API at pandas.testing instead.\n",
            "  import pandas.util.testing as tm\n"
          ],
          "name": "stderr"
        },
        {
          "output_type": "execute_result",
          "data": {
            "text/html": [
              "<div>\n",
              "<style scoped>\n",
              "    .dataframe tbody tr th:only-of-type {\n",
              "        vertical-align: middle;\n",
              "    }\n",
              "\n",
              "    .dataframe tbody tr th {\n",
              "        vertical-align: top;\n",
              "    }\n",
              "\n",
              "    .dataframe thead th {\n",
              "        text-align: right;\n",
              "    }\n",
              "</style>\n",
              "<table border=\"1\" class=\"dataframe\">\n",
              "  <thead>\n",
              "    <tr style=\"text-align: right;\">\n",
              "      <th></th>\n",
              "      <th>Country</th>\n",
              "      <th>Year</th>\n",
              "      <th>Status</th>\n",
              "      <th>Life expectancy</th>\n",
              "      <th>Adult Mortality</th>\n",
              "      <th>infant deaths</th>\n",
              "      <th>Alcohol</th>\n",
              "      <th>percentage expenditure</th>\n",
              "      <th>Hepatitis B</th>\n",
              "      <th>Measles</th>\n",
              "      <th>BMI</th>\n",
              "      <th>under-five deaths</th>\n",
              "      <th>Polio</th>\n",
              "      <th>Total expenditure</th>\n",
              "      <th>Diphtheria</th>\n",
              "      <th>HIV/AIDS</th>\n",
              "      <th>GDP</th>\n",
              "      <th>Population</th>\n",
              "      <th>thinness  1-19 years</th>\n",
              "      <th>thinness 5-9 years</th>\n",
              "      <th>Income composition of resources</th>\n",
              "      <th>Schooling</th>\n",
              "    </tr>\n",
              "  </thead>\n",
              "  <tbody>\n",
              "    <tr>\n",
              "      <th>0</th>\n",
              "      <td>Afghanistan</td>\n",
              "      <td>2015</td>\n",
              "      <td>Developing</td>\n",
              "      <td>65.0</td>\n",
              "      <td>263.0</td>\n",
              "      <td>62</td>\n",
              "      <td>0.01</td>\n",
              "      <td>71.279624</td>\n",
              "      <td>65.0</td>\n",
              "      <td>1154</td>\n",
              "      <td>19.1</td>\n",
              "      <td>83</td>\n",
              "      <td>6.0</td>\n",
              "      <td>8.16</td>\n",
              "      <td>65.0</td>\n",
              "      <td>0.1</td>\n",
              "      <td>584.259210</td>\n",
              "      <td>33736494.0</td>\n",
              "      <td>17.2</td>\n",
              "      <td>17.3</td>\n",
              "      <td>0.479</td>\n",
              "      <td>10.1</td>\n",
              "    </tr>\n",
              "    <tr>\n",
              "      <th>1</th>\n",
              "      <td>Afghanistan</td>\n",
              "      <td>2014</td>\n",
              "      <td>Developing</td>\n",
              "      <td>59.9</td>\n",
              "      <td>271.0</td>\n",
              "      <td>64</td>\n",
              "      <td>0.01</td>\n",
              "      <td>73.523582</td>\n",
              "      <td>62.0</td>\n",
              "      <td>492</td>\n",
              "      <td>18.6</td>\n",
              "      <td>86</td>\n",
              "      <td>58.0</td>\n",
              "      <td>8.18</td>\n",
              "      <td>62.0</td>\n",
              "      <td>0.1</td>\n",
              "      <td>612.696514</td>\n",
              "      <td>327582.0</td>\n",
              "      <td>17.5</td>\n",
              "      <td>17.5</td>\n",
              "      <td>0.476</td>\n",
              "      <td>10.0</td>\n",
              "    </tr>\n",
              "    <tr>\n",
              "      <th>2</th>\n",
              "      <td>Afghanistan</td>\n",
              "      <td>2013</td>\n",
              "      <td>Developing</td>\n",
              "      <td>59.9</td>\n",
              "      <td>268.0</td>\n",
              "      <td>66</td>\n",
              "      <td>0.01</td>\n",
              "      <td>73.219243</td>\n",
              "      <td>64.0</td>\n",
              "      <td>430</td>\n",
              "      <td>18.1</td>\n",
              "      <td>89</td>\n",
              "      <td>62.0</td>\n",
              "      <td>8.13</td>\n",
              "      <td>64.0</td>\n",
              "      <td>0.1</td>\n",
              "      <td>631.744976</td>\n",
              "      <td>31731688.0</td>\n",
              "      <td>17.7</td>\n",
              "      <td>17.7</td>\n",
              "      <td>0.470</td>\n",
              "      <td>9.9</td>\n",
              "    </tr>\n",
              "    <tr>\n",
              "      <th>3</th>\n",
              "      <td>Afghanistan</td>\n",
              "      <td>2012</td>\n",
              "      <td>Developing</td>\n",
              "      <td>59.5</td>\n",
              "      <td>272.0</td>\n",
              "      <td>69</td>\n",
              "      <td>0.01</td>\n",
              "      <td>78.184215</td>\n",
              "      <td>67.0</td>\n",
              "      <td>2787</td>\n",
              "      <td>17.6</td>\n",
              "      <td>93</td>\n",
              "      <td>67.0</td>\n",
              "      <td>8.52</td>\n",
              "      <td>67.0</td>\n",
              "      <td>0.1</td>\n",
              "      <td>669.959000</td>\n",
              "      <td>3696958.0</td>\n",
              "      <td>17.9</td>\n",
              "      <td>18.0</td>\n",
              "      <td>0.463</td>\n",
              "      <td>9.8</td>\n",
              "    </tr>\n",
              "    <tr>\n",
              "      <th>4</th>\n",
              "      <td>Afghanistan</td>\n",
              "      <td>2011</td>\n",
              "      <td>Developing</td>\n",
              "      <td>59.2</td>\n",
              "      <td>275.0</td>\n",
              "      <td>71</td>\n",
              "      <td>0.01</td>\n",
              "      <td>7.097109</td>\n",
              "      <td>68.0</td>\n",
              "      <td>3013</td>\n",
              "      <td>17.2</td>\n",
              "      <td>97</td>\n",
              "      <td>68.0</td>\n",
              "      <td>7.87</td>\n",
              "      <td>68.0</td>\n",
              "      <td>0.1</td>\n",
              "      <td>63.537231</td>\n",
              "      <td>2978599.0</td>\n",
              "      <td>18.2</td>\n",
              "      <td>18.2</td>\n",
              "      <td>0.454</td>\n",
              "      <td>9.5</td>\n",
              "    </tr>\n",
              "  </tbody>\n",
              "</table>\n",
              "</div>"
            ],
            "text/plain": [
              "       Country  Year  ... Income composition of resources  Schooling\n",
              "0  Afghanistan  2015  ...                           0.479       10.1\n",
              "1  Afghanistan  2014  ...                           0.476       10.0\n",
              "2  Afghanistan  2013  ...                           0.470        9.9\n",
              "3  Afghanistan  2012  ...                           0.463        9.8\n",
              "4  Afghanistan  2011  ...                           0.454        9.5\n",
              "\n",
              "[5 rows x 22 columns]"
            ]
          },
          "metadata": {
            "tags": []
          },
          "execution_count": 1
        }
      ]
    },
    {
      "cell_type": "code",
      "metadata": {
        "id": "2eDUrqpvTIZv",
        "colab": {
          "base_uri": "https://localhost:8080/",
          "height": 510
        },
        "outputId": "f051c4a0-5498-4346-fec0-2b1fb37a2340"
      },
      "source": [
        "# Get the information on DataFrame using the 'info()' function.\n",
        "df.info()"
      ],
      "execution_count": null,
      "outputs": [
        {
          "output_type": "stream",
          "text": [
            "<class 'pandas.core.frame.DataFrame'>\n",
            "RangeIndex: 2938 entries, 0 to 2937\n",
            "Data columns (total 22 columns):\n",
            " #   Column                           Non-Null Count  Dtype  \n",
            "---  ------                           --------------  -----  \n",
            " 0   Country                          2938 non-null   object \n",
            " 1   Year                             2938 non-null   int64  \n",
            " 2   Status                           2938 non-null   object \n",
            " 3   Life expectancy                  2928 non-null   float64\n",
            " 4   Adult Mortality                  2928 non-null   float64\n",
            " 5   infant deaths                    2938 non-null   int64  \n",
            " 6   Alcohol                          2744 non-null   float64\n",
            " 7   percentage expenditure           2938 non-null   float64\n",
            " 8   Hepatitis B                      2385 non-null   float64\n",
            " 9   Measles                          2938 non-null   int64  \n",
            " 10   BMI                             2904 non-null   float64\n",
            " 11  under-five deaths                2938 non-null   int64  \n",
            " 12  Polio                            2919 non-null   float64\n",
            " 13  Total expenditure                2712 non-null   float64\n",
            " 14  Diphtheria                       2919 non-null   float64\n",
            " 15   HIV/AIDS                        2938 non-null   float64\n",
            " 16  GDP                              2490 non-null   float64\n",
            " 17  Population                       2286 non-null   float64\n",
            " 18   thinness  1-19 years            2904 non-null   float64\n",
            " 19   thinness 5-9 years              2904 non-null   float64\n",
            " 20  Income composition of resources  2771 non-null   float64\n",
            " 21  Schooling                        2775 non-null   float64\n",
            "dtypes: float64(16), int64(4), object(2)\n",
            "memory usage: 505.1+ KB\n"
          ],
          "name": "stdout"
        }
      ]
    },
    {
      "cell_type": "markdown",
      "metadata": {
        "id": "mOIRuleeHzY0"
      },
      "source": [
        "**Q:** Which column(s) has/have non-numeric values?\n",
        "\n",
        "**A:** `'Country'` and `'Status'`"
      ]
    },
    {
      "cell_type": "markdown",
      "metadata": {
        "id": "EWiqsKkOnT7J"
      },
      "source": [
        "---"
      ]
    },
    {
      "cell_type": "markdown",
      "metadata": {
        "id": "4CrPEfhPDD7g"
      },
      "source": [
        "#### 2. Renaming Columns\n",
        "\n",
        "Rename some columns if they contain leading and trailing spaces."
      ]
    },
    {
      "cell_type": "code",
      "metadata": {
        "id": "xNrm1FKyEcwM",
        "colab": {
          "base_uri": "https://localhost:8080/",
          "height": 136
        },
        "outputId": "cbdc8563-ddc2-4e66-ca01-be7d421a8e4c"
      },
      "source": [
        "# Get a list of all the columns before renaming using 'df.columns'.\n",
        "df.columns"
      ],
      "execution_count": null,
      "outputs": [
        {
          "output_type": "execute_result",
          "data": {
            "text/plain": [
              "Index(['Country', 'Year', 'Status', 'Life expectancy ', 'Adult Mortality',\n",
              "       'infant deaths', 'Alcohol', 'percentage expenditure', 'Hepatitis B',\n",
              "       'Measles ', ' BMI ', 'under-five deaths ', 'Polio', 'Total expenditure',\n",
              "       'Diphtheria ', ' HIV/AIDS', 'GDP', 'Population',\n",
              "       ' thinness  1-19 years', ' thinness 5-9 years',\n",
              "       'Income composition of resources', 'Schooling'],\n",
              "      dtype='object')"
            ]
          },
          "metadata": {
            "tags": []
          },
          "execution_count": 3
        }
      ]
    },
    {
      "cell_type": "markdown",
      "metadata": {
        "id": "-2aBkbVWEhOe"
      },
      "source": [
        "**Q:** Which columns contain trailing whitespaces (spaces before and after) in their names?\n",
        "\n",
        "**A:** `'Life expectancy '`, `'Measles ', ' BMI ', 'under-five deaths ', 'Diphtheria ', ' HIV/AIDS', ' thinness  1-19 years'` and `' thinness 5-9 years'`"
      ]
    },
    {
      "cell_type": "code",
      "metadata": {
        "id": "_OC_6w7EDHAA"
      },
      "source": [
        "# Remove whitespaces from both ends in the column name using the 'strip()' function.\n",
        "for col in df.columns:\n",
        "  df.rename(columns = {col : col.strip()}, inplace = True)"
      ],
      "execution_count": null,
      "outputs": []
    },
    {
      "cell_type": "code",
      "metadata": {
        "id": "AvadRkvzFM8m",
        "colab": {
          "base_uri": "https://localhost:8080/",
          "height": 119
        },
        "outputId": "1d40d0b2-caa2-4997-b889-d7f6d5d59a6f"
      },
      "source": [
        "# Get list of all the columns after renaming.\n",
        "df.columns"
      ],
      "execution_count": null,
      "outputs": [
        {
          "output_type": "execute_result",
          "data": {
            "text/plain": [
              "Index(['Country', 'Year', 'Status', 'Life expectancy', 'Adult Mortality',\n",
              "       'infant deaths', 'Alcohol', 'percentage expenditure', 'Hepatitis B',\n",
              "       'Measles', 'BMI', 'under-five deaths', 'Polio', 'Total expenditure',\n",
              "       'Diphtheria', 'HIV/AIDS', 'GDP', 'Population', 'thinness  1-19 years',\n",
              "       'thinness 5-9 years', 'Income composition of resources', 'Schooling'],\n",
              "      dtype='object')"
            ]
          },
          "metadata": {
            "tags": []
          },
          "execution_count": 5
        }
      ]
    },
    {
      "cell_type": "markdown",
      "metadata": {
        "id": "kWmISU_-DP_l"
      },
      "source": [
        "---"
      ]
    },
    {
      "cell_type": "markdown",
      "metadata": {
        "id": "wmUC8gulmsu8"
      },
      "source": [
        "#### 3. Treat Null Values\n",
        "\n",
        "Check for the null values in the DataFrame.\n"
      ]
    },
    {
      "cell_type": "code",
      "metadata": {
        "id": "FchEirt6FXwf",
        "colab": {
          "base_uri": "https://localhost:8080/",
          "height": 408
        },
        "outputId": "c107cc38-987d-439c-fde2-93873d0fd86d"
      },
      "source": [
        "# Check for the percentage null values in all the columns.\n",
        "round(df.isnull().sum() * 100 / df.shape[0], 2)"
      ],
      "execution_count": null,
      "outputs": [
        {
          "output_type": "execute_result",
          "data": {
            "text/plain": [
              "Country                             0.00\n",
              "Year                                0.00\n",
              "Status                              0.00\n",
              "Life expectancy                     0.34\n",
              "Adult Mortality                     0.34\n",
              "infant deaths                       0.00\n",
              "Alcohol                             6.60\n",
              "percentage expenditure              0.00\n",
              "Hepatitis B                        18.82\n",
              "Measles                             0.00\n",
              "BMI                                 1.16\n",
              "under-five deaths                   0.00\n",
              "Polio                               0.65\n",
              "Total expenditure                   7.69\n",
              "Diphtheria                          0.65\n",
              "HIV/AIDS                            0.00\n",
              "GDP                                15.25\n",
              "Population                         22.19\n",
              "thinness  1-19 years                1.16\n",
              "thinness 5-9 years                  1.16\n",
              "Income composition of resources     5.68\n",
              "Schooling                           5.55\n",
              "dtype: float64"
            ]
          },
          "metadata": {
            "tags": []
          },
          "execution_count": 6
        }
      ]
    },
    {
      "cell_type": "code",
      "metadata": {
        "id": "ymnl5XNOHRmf",
        "colab": {
          "base_uri": "https://localhost:8080/",
          "height": 34
        },
        "outputId": "42381acb-2114-4cf1-e60f-56721c852e9a"
      },
      "source": [
        "# Store the columns containing more than 15% of the missing values in a list.\n",
        "cols_to_drop = []\n",
        "for col in df.columns:\n",
        "  if df[col].isnull().sum() * 100 / df.shape[0] >= 15:\n",
        "    cols_to_drop.append(col)\n",
        "\n",
        "cols_to_drop"
      ],
      "execution_count": null,
      "outputs": [
        {
          "output_type": "execute_result",
          "data": {
            "text/plain": [
              "['Hepatitis B', 'GDP', 'Population']"
            ]
          },
          "metadata": {
            "tags": []
          },
          "execution_count": 7
        }
      ]
    },
    {
      "cell_type": "code",
      "metadata": {
        "id": "gJ0mt8VjGGsv",
        "colab": {
          "base_uri": "https://localhost:8080/",
          "height": 119
        },
        "outputId": "2dba5e9d-6e0b-4e54-8cce-7863f3162f33"
      },
      "source": [
        "# Drop the columns containing more than 15% of the missing values using the 'drop()' function.\n",
        "df = df.drop(columns = cols_to_drop)\n",
        "df.columns"
      ],
      "execution_count": null,
      "outputs": [
        {
          "output_type": "execute_result",
          "data": {
            "text/plain": [
              "Index(['Country', 'Year', 'Status', 'Life expectancy', 'Adult Mortality',\n",
              "       'infant deaths', 'Alcohol', 'percentage expenditure', 'Measles', 'BMI',\n",
              "       'under-five deaths', 'Polio', 'Total expenditure', 'Diphtheria',\n",
              "       'HIV/AIDS', 'thinness  1-19 years', 'thinness 5-9 years',\n",
              "       'Income composition of resources', 'Schooling'],\n",
              "      dtype='object')"
            ]
          },
          "metadata": {
            "tags": []
          },
          "execution_count": 8
        }
      ]
    },
    {
      "cell_type": "markdown",
      "metadata": {
        "id": "S0eiYoEYHP5T"
      },
      "source": [
        "Replace the null values with the respective median of the columns.\n",
        "\n",
        "**Hint:** To replace the null values with their respective median, you can use `fillna()` function. Some of the examples are:\n",
        "\n",
        "- `df.fillna('0')` $\\rightarrow$ Replaces all null values in the DataFrame `df` with `0`.\n",
        "\n",
        "- `df.fillna('0', inplace = True)` $\\rightarrow$ Here the `inplace = True` parameter instructs to replace the null values in-place i.e. directly inside the DataFrame without creating its copy. It is an optional parameter.\n",
        "\n",
        "- `df['column_name'].fillna(df['column_name'].median(), inplace = True)` $\\rightarrow$ Replaces all null values of a column with its median. \n",
        "\n",
        "\n",
        "\n",
        "\n"
      ]
    },
    {
      "cell_type": "code",
      "metadata": {
        "id": "iXo7oC3oItEn",
        "colab": {
          "base_uri": "https://localhost:8080/",
          "height": 204
        },
        "outputId": "156fcc0c-ec6e-4eb7-c3e0-896aba26ce0a"
      },
      "source": [
        "# Get the columns having the null values.\n",
        "cols_having_null_values = []\n",
        "for col in df.columns:\n",
        "  if df[col].isnull().sum() > 0:\n",
        "    cols_having_null_values.append(col)\n",
        "cols_having_null_values"
      ],
      "execution_count": null,
      "outputs": [
        {
          "output_type": "execute_result",
          "data": {
            "text/plain": [
              "['Life expectancy',\n",
              " 'Adult Mortality',\n",
              " 'Alcohol',\n",
              " 'BMI',\n",
              " 'Polio',\n",
              " 'Total expenditure',\n",
              " 'Diphtheria',\n",
              " 'thinness  1-19 years',\n",
              " 'thinness 5-9 years',\n",
              " 'Income composition of resources',\n",
              " 'Schooling']"
            ]
          },
          "metadata": {
            "tags": []
          },
          "execution_count": 9
        }
      ]
    },
    {
      "cell_type": "markdown",
      "metadata": {
        "id": "Hl0X8hSHU8P4"
      },
      "source": [
        "Before replacing the null values, let's split our DataFrame into two separate DataFrames based on the development status of the countries."
      ]
    },
    {
      "cell_type": "code",
      "metadata": {
        "id": "8UpUeRXxZRqw",
        "colab": {
          "base_uri": "https://localhost:8080/",
          "height": 745
        },
        "outputId": "b0773836-2a41-41a1-89e7-bc04b9575822"
      },
      "source": [
        "# Grouping the DataFrame based on the development status of countries. First get the DataFrame of the developed countries\n",
        "grouped_status = df.groupby('Status')\n",
        "developed_df = grouped_status.get_group('Developed')\n",
        "developed_df"
      ],
      "execution_count": null,
      "outputs": [
        {
          "output_type": "execute_result",
          "data": {
            "text/html": [
              "<div>\n",
              "<style scoped>\n",
              "    .dataframe tbody tr th:only-of-type {\n",
              "        vertical-align: middle;\n",
              "    }\n",
              "\n",
              "    .dataframe tbody tr th {\n",
              "        vertical-align: top;\n",
              "    }\n",
              "\n",
              "    .dataframe thead th {\n",
              "        text-align: right;\n",
              "    }\n",
              "</style>\n",
              "<table border=\"1\" class=\"dataframe\">\n",
              "  <thead>\n",
              "    <tr style=\"text-align: right;\">\n",
              "      <th></th>\n",
              "      <th>Country</th>\n",
              "      <th>Year</th>\n",
              "      <th>Status</th>\n",
              "      <th>Life expectancy</th>\n",
              "      <th>Adult Mortality</th>\n",
              "      <th>infant deaths</th>\n",
              "      <th>Alcohol</th>\n",
              "      <th>percentage expenditure</th>\n",
              "      <th>Measles</th>\n",
              "      <th>BMI</th>\n",
              "      <th>under-five deaths</th>\n",
              "      <th>Polio</th>\n",
              "      <th>Total expenditure</th>\n",
              "      <th>Diphtheria</th>\n",
              "      <th>HIV/AIDS</th>\n",
              "      <th>thinness  1-19 years</th>\n",
              "      <th>thinness 5-9 years</th>\n",
              "      <th>Income composition of resources</th>\n",
              "      <th>Schooling</th>\n",
              "    </tr>\n",
              "  </thead>\n",
              "  <tbody>\n",
              "    <tr>\n",
              "      <th>112</th>\n",
              "      <td>Australia</td>\n",
              "      <td>2015</td>\n",
              "      <td>Developed</td>\n",
              "      <td>82.8</td>\n",
              "      <td>59.0</td>\n",
              "      <td>1</td>\n",
              "      <td>NaN</td>\n",
              "      <td>0.00000</td>\n",
              "      <td>74</td>\n",
              "      <td>66.6</td>\n",
              "      <td>1</td>\n",
              "      <td>93.0</td>\n",
              "      <td>NaN</td>\n",
              "      <td>93.0</td>\n",
              "      <td>0.1</td>\n",
              "      <td>0.6</td>\n",
              "      <td>0.6</td>\n",
              "      <td>0.937</td>\n",
              "      <td>20.4</td>\n",
              "    </tr>\n",
              "    <tr>\n",
              "      <th>113</th>\n",
              "      <td>Australia</td>\n",
              "      <td>2014</td>\n",
              "      <td>Developed</td>\n",
              "      <td>82.7</td>\n",
              "      <td>6.0</td>\n",
              "      <td>1</td>\n",
              "      <td>9.71</td>\n",
              "      <td>10769.36305</td>\n",
              "      <td>340</td>\n",
              "      <td>66.1</td>\n",
              "      <td>1</td>\n",
              "      <td>92.0</td>\n",
              "      <td>9.42</td>\n",
              "      <td>92.0</td>\n",
              "      <td>0.1</td>\n",
              "      <td>0.6</td>\n",
              "      <td>0.6</td>\n",
              "      <td>0.936</td>\n",
              "      <td>20.4</td>\n",
              "    </tr>\n",
              "    <tr>\n",
              "      <th>114</th>\n",
              "      <td>Australia</td>\n",
              "      <td>2013</td>\n",
              "      <td>Developed</td>\n",
              "      <td>82.5</td>\n",
              "      <td>61.0</td>\n",
              "      <td>1</td>\n",
              "      <td>9.87</td>\n",
              "      <td>11734.85381</td>\n",
              "      <td>158</td>\n",
              "      <td>65.5</td>\n",
              "      <td>1</td>\n",
              "      <td>91.0</td>\n",
              "      <td>9.36</td>\n",
              "      <td>91.0</td>\n",
              "      <td>0.1</td>\n",
              "      <td>0.6</td>\n",
              "      <td>0.6</td>\n",
              "      <td>0.933</td>\n",
              "      <td>20.3</td>\n",
              "    </tr>\n",
              "    <tr>\n",
              "      <th>115</th>\n",
              "      <td>Australia</td>\n",
              "      <td>2012</td>\n",
              "      <td>Developed</td>\n",
              "      <td>82.3</td>\n",
              "      <td>61.0</td>\n",
              "      <td>1</td>\n",
              "      <td>10.03</td>\n",
              "      <td>11714.99858</td>\n",
              "      <td>199</td>\n",
              "      <td>65.0</td>\n",
              "      <td>1</td>\n",
              "      <td>92.0</td>\n",
              "      <td>9.36</td>\n",
              "      <td>92.0</td>\n",
              "      <td>0.1</td>\n",
              "      <td>0.6</td>\n",
              "      <td>0.6</td>\n",
              "      <td>0.930</td>\n",
              "      <td>20.1</td>\n",
              "    </tr>\n",
              "    <tr>\n",
              "      <th>116</th>\n",
              "      <td>Australia</td>\n",
              "      <td>2011</td>\n",
              "      <td>Developed</td>\n",
              "      <td>82.0</td>\n",
              "      <td>63.0</td>\n",
              "      <td>1</td>\n",
              "      <td>10.30</td>\n",
              "      <td>10986.26527</td>\n",
              "      <td>190</td>\n",
              "      <td>64.4</td>\n",
              "      <td>1</td>\n",
              "      <td>92.0</td>\n",
              "      <td>9.20</td>\n",
              "      <td>92.0</td>\n",
              "      <td>0.1</td>\n",
              "      <td>0.6</td>\n",
              "      <td>0.6</td>\n",
              "      <td>0.927</td>\n",
              "      <td>19.8</td>\n",
              "    </tr>\n",
              "    <tr>\n",
              "      <th>...</th>\n",
              "      <td>...</td>\n",
              "      <td>...</td>\n",
              "      <td>...</td>\n",
              "      <td>...</td>\n",
              "      <td>...</td>\n",
              "      <td>...</td>\n",
              "      <td>...</td>\n",
              "      <td>...</td>\n",
              "      <td>...</td>\n",
              "      <td>...</td>\n",
              "      <td>...</td>\n",
              "      <td>...</td>\n",
              "      <td>...</td>\n",
              "      <td>...</td>\n",
              "      <td>...</td>\n",
              "      <td>...</td>\n",
              "      <td>...</td>\n",
              "      <td>...</td>\n",
              "      <td>...</td>\n",
              "    </tr>\n",
              "    <tr>\n",
              "      <th>2805</th>\n",
              "      <td>United States of America</td>\n",
              "      <td>2004</td>\n",
              "      <td>Developed</td>\n",
              "      <td>77.5</td>\n",
              "      <td>111.0</td>\n",
              "      <td>28</td>\n",
              "      <td>8.48</td>\n",
              "      <td>0.00000</td>\n",
              "      <td>37</td>\n",
              "      <td>63.1</td>\n",
              "      <td>33</td>\n",
              "      <td>92.0</td>\n",
              "      <td>15.14</td>\n",
              "      <td>96.0</td>\n",
              "      <td>0.1</td>\n",
              "      <td>0.7</td>\n",
              "      <td>0.6</td>\n",
              "      <td>NaN</td>\n",
              "      <td>NaN</td>\n",
              "    </tr>\n",
              "    <tr>\n",
              "      <th>2806</th>\n",
              "      <td>United States of America</td>\n",
              "      <td>2003</td>\n",
              "      <td>Developed</td>\n",
              "      <td>77.2</td>\n",
              "      <td>114.0</td>\n",
              "      <td>28</td>\n",
              "      <td>8.40</td>\n",
              "      <td>0.00000</td>\n",
              "      <td>56</td>\n",
              "      <td>62.4</td>\n",
              "      <td>33</td>\n",
              "      <td>91.0</td>\n",
              "      <td>15.60</td>\n",
              "      <td>96.0</td>\n",
              "      <td>0.1</td>\n",
              "      <td>0.7</td>\n",
              "      <td>0.6</td>\n",
              "      <td>NaN</td>\n",
              "      <td>NaN</td>\n",
              "    </tr>\n",
              "    <tr>\n",
              "      <th>2807</th>\n",
              "      <td>United States of America</td>\n",
              "      <td>2002</td>\n",
              "      <td>Developed</td>\n",
              "      <td>77.0</td>\n",
              "      <td>115.0</td>\n",
              "      <td>28</td>\n",
              "      <td>8.33</td>\n",
              "      <td>0.00000</td>\n",
              "      <td>41</td>\n",
              "      <td>61.7</td>\n",
              "      <td>33</td>\n",
              "      <td>9.0</td>\n",
              "      <td>14.55</td>\n",
              "      <td>94.0</td>\n",
              "      <td>0.1</td>\n",
              "      <td>0.8</td>\n",
              "      <td>0.6</td>\n",
              "      <td>NaN</td>\n",
              "      <td>NaN</td>\n",
              "    </tr>\n",
              "    <tr>\n",
              "      <th>2808</th>\n",
              "      <td>United States of America</td>\n",
              "      <td>2001</td>\n",
              "      <td>Developed</td>\n",
              "      <td>76.9</td>\n",
              "      <td>115.0</td>\n",
              "      <td>28</td>\n",
              "      <td>8.25</td>\n",
              "      <td>0.00000</td>\n",
              "      <td>116</td>\n",
              "      <td>6.9</td>\n",
              "      <td>33</td>\n",
              "      <td>89.0</td>\n",
              "      <td>13.73</td>\n",
              "      <td>94.0</td>\n",
              "      <td>0.1</td>\n",
              "      <td>0.8</td>\n",
              "      <td>0.6</td>\n",
              "      <td>NaN</td>\n",
              "      <td>NaN</td>\n",
              "    </tr>\n",
              "    <tr>\n",
              "      <th>2809</th>\n",
              "      <td>United States of America</td>\n",
              "      <td>2000</td>\n",
              "      <td>Developed</td>\n",
              "      <td>76.8</td>\n",
              "      <td>114.0</td>\n",
              "      <td>28</td>\n",
              "      <td>8.21</td>\n",
              "      <td>0.00000</td>\n",
              "      <td>85</td>\n",
              "      <td>6.1</td>\n",
              "      <td>33</td>\n",
              "      <td>9.0</td>\n",
              "      <td>13.70</td>\n",
              "      <td>94.0</td>\n",
              "      <td>0.1</td>\n",
              "      <td>0.8</td>\n",
              "      <td>0.7</td>\n",
              "      <td>NaN</td>\n",
              "      <td>NaN</td>\n",
              "    </tr>\n",
              "  </tbody>\n",
              "</table>\n",
              "<p>512 rows × 19 columns</p>\n",
              "</div>"
            ],
            "text/plain": [
              "                       Country  ...  Schooling\n",
              "112                  Australia  ...       20.4\n",
              "113                  Australia  ...       20.4\n",
              "114                  Australia  ...       20.3\n",
              "115                  Australia  ...       20.1\n",
              "116                  Australia  ...       19.8\n",
              "...                        ...  ...        ...\n",
              "2805  United States of America  ...        NaN\n",
              "2806  United States of America  ...        NaN\n",
              "2807  United States of America  ...        NaN\n",
              "2808  United States of America  ...        NaN\n",
              "2809  United States of America  ...        NaN\n",
              "\n",
              "[512 rows x 19 columns]"
            ]
          },
          "metadata": {
            "tags": []
          },
          "execution_count": 10
        }
      ]
    },
    {
      "cell_type": "code",
      "metadata": {
        "id": "mALnE8kGHd5A",
        "colab": {
          "base_uri": "https://localhost:8080/",
          "height": 221
        },
        "outputId": "dda3e46b-e6cc-48e9-a9d3-6112b964a92f"
      },
      "source": [
        "# Check for the null values in the developed countries DataFrame\n",
        "developed_df[cols_having_null_values].isnull().sum()"
      ],
      "execution_count": null,
      "outputs": [
        {
          "output_type": "execute_result",
          "data": {
            "text/plain": [
              "Life expectancy                     0\n",
              "Adult Mortality                     0\n",
              "Alcohol                            28\n",
              "BMI                                 0\n",
              "Polio                               0\n",
              "Total expenditure                  32\n",
              "Diphtheria                          0\n",
              "thinness  1-19 years                0\n",
              "thinness 5-9 years                  0\n",
              "Income composition of resources    48\n",
              "Schooling                          48\n",
              "dtype: int64"
            ]
          },
          "metadata": {
            "tags": []
          },
          "execution_count": 11
        }
      ]
    },
    {
      "cell_type": "code",
      "metadata": {
        "id": "0eSX3GoCH9SW",
        "colab": {
          "base_uri": "https://localhost:8080/",
          "height": 85
        },
        "outputId": "fc7d8b60-1868-4ce6-9373-be043f5f1906"
      },
      "source": [
        "# Get the columns having the null values in the developed countries DataFrame\n",
        "cols_developed_null_values = []\n",
        "for col in developed_df.columns:\n",
        "  if developed_df[col].isnull().sum() > 0:\n",
        "    cols_developed_null_values.append(col)\n",
        "\n",
        "cols_developed_null_values"
      ],
      "execution_count": null,
      "outputs": [
        {
          "output_type": "execute_result",
          "data": {
            "text/plain": [
              "['Alcohol',\n",
              " 'Total expenditure',\n",
              " 'Income composition of resources',\n",
              " 'Schooling']"
            ]
          },
          "metadata": {
            "tags": []
          },
          "execution_count": 12
        }
      ]
    },
    {
      "cell_type": "code",
      "metadata": {
        "id": "SGaMndaMX2QR",
        "colab": {
          "base_uri": "https://localhost:8080/",
          "height": 297
        },
        "outputId": "b6ce51bf-396b-491a-d0aa-ab30ca6f27b9"
      },
      "source": [
        "# Get a descriptive statistics summary of the columns having the null values in the developed countries DataFrame\n",
        "developed_df[cols_developed_null_values].describe()"
      ],
      "execution_count": null,
      "outputs": [
        {
          "output_type": "execute_result",
          "data": {
            "text/html": [
              "<div>\n",
              "<style scoped>\n",
              "    .dataframe tbody tr th:only-of-type {\n",
              "        vertical-align: middle;\n",
              "    }\n",
              "\n",
              "    .dataframe tbody tr th {\n",
              "        vertical-align: top;\n",
              "    }\n",
              "\n",
              "    .dataframe thead th {\n",
              "        text-align: right;\n",
              "    }\n",
              "</style>\n",
              "<table border=\"1\" class=\"dataframe\">\n",
              "  <thead>\n",
              "    <tr style=\"text-align: right;\">\n",
              "      <th></th>\n",
              "      <th>Alcohol</th>\n",
              "      <th>Total expenditure</th>\n",
              "      <th>Income composition of resources</th>\n",
              "      <th>Schooling</th>\n",
              "    </tr>\n",
              "  </thead>\n",
              "  <tbody>\n",
              "    <tr>\n",
              "      <th>count</th>\n",
              "      <td>484.000000</td>\n",
              "      <td>480.000000</td>\n",
              "      <td>464.000000</td>\n",
              "      <td>464.000000</td>\n",
              "    </tr>\n",
              "    <tr>\n",
              "      <th>mean</th>\n",
              "      <td>9.826736</td>\n",
              "      <td>7.554042</td>\n",
              "      <td>0.852489</td>\n",
              "      <td>15.845474</td>\n",
              "    </tr>\n",
              "    <tr>\n",
              "      <th>std</th>\n",
              "      <td>2.765858</td>\n",
              "      <td>2.984389</td>\n",
              "      <td>0.052843</td>\n",
              "      <td>1.766799</td>\n",
              "    </tr>\n",
              "    <tr>\n",
              "      <th>min</th>\n",
              "      <td>0.010000</td>\n",
              "      <td>1.100000</td>\n",
              "      <td>0.703000</td>\n",
              "      <td>11.500000</td>\n",
              "    </tr>\n",
              "    <tr>\n",
              "      <th>25%</th>\n",
              "      <td>8.617500</td>\n",
              "      <td>6.407500</td>\n",
              "      <td>0.815000</td>\n",
              "      <td>14.700000</td>\n",
              "    </tr>\n",
              "    <tr>\n",
              "      <th>50%</th>\n",
              "      <td>10.320000</td>\n",
              "      <td>7.895000</td>\n",
              "      <td>0.862000</td>\n",
              "      <td>15.800000</td>\n",
              "    </tr>\n",
              "    <tr>\n",
              "      <th>75%</th>\n",
              "      <td>11.697500</td>\n",
              "      <td>9.212500</td>\n",
              "      <td>0.894000</td>\n",
              "      <td>16.800000</td>\n",
              "    </tr>\n",
              "    <tr>\n",
              "      <th>max</th>\n",
              "      <td>15.190000</td>\n",
              "      <td>17.600000</td>\n",
              "      <td>0.948000</td>\n",
              "      <td>20.700000</td>\n",
              "    </tr>\n",
              "  </tbody>\n",
              "</table>\n",
              "</div>"
            ],
            "text/plain": [
              "          Alcohol  ...   Schooling\n",
              "count  484.000000  ...  464.000000\n",
              "mean     9.826736  ...   15.845474\n",
              "std      2.765858  ...    1.766799\n",
              "min      0.010000  ...   11.500000\n",
              "25%      8.617500  ...   14.700000\n",
              "50%     10.320000  ...   15.800000\n",
              "75%     11.697500  ...   16.800000\n",
              "max     15.190000  ...   20.700000\n",
              "\n",
              "[8 rows x 4 columns]"
            ]
          },
          "metadata": {
            "tags": []
          },
          "execution_count": 13
        }
      ]
    },
    {
      "cell_type": "code",
      "metadata": {
        "id": "zxKHOrvQEpiO",
        "colab": {
          "base_uri": "https://localhost:8080/",
          "height": 102
        },
        "outputId": "4dbbc7fa-eedb-4f3e-ad72-bdab166bdf36"
      },
      "source": [
        "# Replace the missing values of the developed countries DataFrame with the median value of the respective columns.\n",
        "for col in cols_developed_null_values:\n",
        "  developed_df[col].fillna((developed_df[col].median()), inplace = True)"
      ],
      "execution_count": null,
      "outputs": [
        {
          "output_type": "stream",
          "text": [
            "/usr/local/lib/python3.6/dist-packages/pandas/core/generic.py:6245: SettingWithCopyWarning: \n",
            "A value is trying to be set on a copy of a slice from a DataFrame\n",
            "\n",
            "See the caveats in the documentation: https://pandas.pydata.org/pandas-docs/stable/user_guide/indexing.html#returning-a-view-versus-a-copy\n",
            "  self._update_inplace(new_data)\n"
          ],
          "name": "stderr"
        }
      ]
    },
    {
      "cell_type": "code",
      "metadata": {
        "id": "hbnrKqcJGKqD",
        "colab": {
          "base_uri": "https://localhost:8080/",
          "height": 297
        },
        "outputId": "e82199ec-83f9-4671-ee05-267cfc0d8c68"
      },
      "source": [
        "# Again get a descriptive statistics summary of the columns having null values in the developed countries DataFrame.\n",
        "# This is done to verify that the replaced values did not disrupt the data \n",
        "developed_df[cols_developed_null_values].describe()"
      ],
      "execution_count": null,
      "outputs": [
        {
          "output_type": "execute_result",
          "data": {
            "text/html": [
              "<div>\n",
              "<style scoped>\n",
              "    .dataframe tbody tr th:only-of-type {\n",
              "        vertical-align: middle;\n",
              "    }\n",
              "\n",
              "    .dataframe tbody tr th {\n",
              "        vertical-align: top;\n",
              "    }\n",
              "\n",
              "    .dataframe thead th {\n",
              "        text-align: right;\n",
              "    }\n",
              "</style>\n",
              "<table border=\"1\" class=\"dataframe\">\n",
              "  <thead>\n",
              "    <tr style=\"text-align: right;\">\n",
              "      <th></th>\n",
              "      <th>Alcohol</th>\n",
              "      <th>Total expenditure</th>\n",
              "      <th>Income composition of resources</th>\n",
              "      <th>Schooling</th>\n",
              "    </tr>\n",
              "  </thead>\n",
              "  <tbody>\n",
              "    <tr>\n",
              "      <th>count</th>\n",
              "      <td>512.000000</td>\n",
              "      <td>512.000000</td>\n",
              "      <td>512.000000</td>\n",
              "      <td>512.000000</td>\n",
              "    </tr>\n",
              "    <tr>\n",
              "      <th>mean</th>\n",
              "      <td>9.853711</td>\n",
              "      <td>7.575352</td>\n",
              "      <td>0.853381</td>\n",
              "      <td>15.841211</td>\n",
              "    </tr>\n",
              "    <tr>\n",
              "      <th>std</th>\n",
              "      <td>2.691356</td>\n",
              "      <td>2.890614</td>\n",
              "      <td>0.050377</td>\n",
              "      <td>1.681824</td>\n",
              "    </tr>\n",
              "    <tr>\n",
              "      <th>min</th>\n",
              "      <td>0.010000</td>\n",
              "      <td>1.100000</td>\n",
              "      <td>0.703000</td>\n",
              "      <td>11.500000</td>\n",
              "    </tr>\n",
              "    <tr>\n",
              "      <th>25%</th>\n",
              "      <td>8.740000</td>\n",
              "      <td>6.542500</td>\n",
              "      <td>0.819750</td>\n",
              "      <td>14.800000</td>\n",
              "    </tr>\n",
              "    <tr>\n",
              "      <th>50%</th>\n",
              "      <td>10.320000</td>\n",
              "      <td>7.895000</td>\n",
              "      <td>0.862000</td>\n",
              "      <td>15.800000</td>\n",
              "    </tr>\n",
              "    <tr>\n",
              "      <th>75%</th>\n",
              "      <td>11.582500</td>\n",
              "      <td>9.140000</td>\n",
              "      <td>0.891250</td>\n",
              "      <td>16.600000</td>\n",
              "    </tr>\n",
              "    <tr>\n",
              "      <th>max</th>\n",
              "      <td>15.190000</td>\n",
              "      <td>17.600000</td>\n",
              "      <td>0.948000</td>\n",
              "      <td>20.700000</td>\n",
              "    </tr>\n",
              "  </tbody>\n",
              "</table>\n",
              "</div>"
            ],
            "text/plain": [
              "          Alcohol  ...   Schooling\n",
              "count  512.000000  ...  512.000000\n",
              "mean     9.853711  ...   15.841211\n",
              "std      2.691356  ...    1.681824\n",
              "min      0.010000  ...   11.500000\n",
              "25%      8.740000  ...   14.800000\n",
              "50%     10.320000  ...   15.800000\n",
              "75%     11.582500  ...   16.600000\n",
              "max     15.190000  ...   20.700000\n",
              "\n",
              "[8 rows x 4 columns]"
            ]
          },
          "metadata": {
            "tags": []
          },
          "execution_count": 15
        }
      ]
    },
    {
      "cell_type": "markdown",
      "metadata": {
        "id": "H31A9ZkpXXY8"
      },
      "source": [
        "**Note:** Make sure that there is no major change in the mean, std, min, 25%, 50%, 75% and max values after replacing null values. "
      ]
    },
    {
      "cell_type": "code",
      "metadata": {
        "id": "P7xxlveYMpg_",
        "colab": {
          "base_uri": "https://localhost:8080/",
          "height": 102
        },
        "outputId": "3bc1aed4-ffef-4b77-9740-09b3457dc9af"
      },
      "source": [
        "# Again check whether there are any missing values\n",
        "developed_df[cols_developed_null_values].isnull().sum()"
      ],
      "execution_count": null,
      "outputs": [
        {
          "output_type": "execute_result",
          "data": {
            "text/plain": [
              "Alcohol                            0\n",
              "Total expenditure                  0\n",
              "Income composition of resources    0\n",
              "Schooling                          0\n",
              "dtype: int64"
            ]
          },
          "metadata": {
            "tags": []
          },
          "execution_count": 16
        }
      ]
    },
    {
      "cell_type": "code",
      "metadata": {
        "id": "VTxn8dmNZfv3",
        "colab": {
          "base_uri": "https://localhost:8080/",
          "height": 490
        },
        "outputId": "60c95bcc-5dc2-4ba1-ef4c-165edf1c6966"
      },
      "source": [
        "# Get the DataFrame of the developing countries \n",
        "developing_df = grouped_status.get_group('Developing')\n",
        "developing_df"
      ],
      "execution_count": null,
      "outputs": [
        {
          "output_type": "execute_result",
          "data": {
            "text/html": [
              "<div>\n",
              "<style scoped>\n",
              "    .dataframe tbody tr th:only-of-type {\n",
              "        vertical-align: middle;\n",
              "    }\n",
              "\n",
              "    .dataframe tbody tr th {\n",
              "        vertical-align: top;\n",
              "    }\n",
              "\n",
              "    .dataframe thead th {\n",
              "        text-align: right;\n",
              "    }\n",
              "</style>\n",
              "<table border=\"1\" class=\"dataframe\">\n",
              "  <thead>\n",
              "    <tr style=\"text-align: right;\">\n",
              "      <th></th>\n",
              "      <th>Country</th>\n",
              "      <th>Year</th>\n",
              "      <th>Status</th>\n",
              "      <th>Life expectancy</th>\n",
              "      <th>Adult Mortality</th>\n",
              "      <th>infant deaths</th>\n",
              "      <th>Alcohol</th>\n",
              "      <th>percentage expenditure</th>\n",
              "      <th>Measles</th>\n",
              "      <th>BMI</th>\n",
              "      <th>under-five deaths</th>\n",
              "      <th>Polio</th>\n",
              "      <th>Total expenditure</th>\n",
              "      <th>Diphtheria</th>\n",
              "      <th>HIV/AIDS</th>\n",
              "      <th>thinness  1-19 years</th>\n",
              "      <th>thinness 5-9 years</th>\n",
              "      <th>Income composition of resources</th>\n",
              "      <th>Schooling</th>\n",
              "    </tr>\n",
              "  </thead>\n",
              "  <tbody>\n",
              "    <tr>\n",
              "      <th>0</th>\n",
              "      <td>Afghanistan</td>\n",
              "      <td>2015</td>\n",
              "      <td>Developing</td>\n",
              "      <td>65.0</td>\n",
              "      <td>263.0</td>\n",
              "      <td>62</td>\n",
              "      <td>0.01</td>\n",
              "      <td>71.279624</td>\n",
              "      <td>1154</td>\n",
              "      <td>19.1</td>\n",
              "      <td>83</td>\n",
              "      <td>6.0</td>\n",
              "      <td>8.16</td>\n",
              "      <td>65.0</td>\n",
              "      <td>0.1</td>\n",
              "      <td>17.2</td>\n",
              "      <td>17.3</td>\n",
              "      <td>0.479</td>\n",
              "      <td>10.1</td>\n",
              "    </tr>\n",
              "    <tr>\n",
              "      <th>1</th>\n",
              "      <td>Afghanistan</td>\n",
              "      <td>2014</td>\n",
              "      <td>Developing</td>\n",
              "      <td>59.9</td>\n",
              "      <td>271.0</td>\n",
              "      <td>64</td>\n",
              "      <td>0.01</td>\n",
              "      <td>73.523582</td>\n",
              "      <td>492</td>\n",
              "      <td>18.6</td>\n",
              "      <td>86</td>\n",
              "      <td>58.0</td>\n",
              "      <td>8.18</td>\n",
              "      <td>62.0</td>\n",
              "      <td>0.1</td>\n",
              "      <td>17.5</td>\n",
              "      <td>17.5</td>\n",
              "      <td>0.476</td>\n",
              "      <td>10.0</td>\n",
              "    </tr>\n",
              "    <tr>\n",
              "      <th>2</th>\n",
              "      <td>Afghanistan</td>\n",
              "      <td>2013</td>\n",
              "      <td>Developing</td>\n",
              "      <td>59.9</td>\n",
              "      <td>268.0</td>\n",
              "      <td>66</td>\n",
              "      <td>0.01</td>\n",
              "      <td>73.219243</td>\n",
              "      <td>430</td>\n",
              "      <td>18.1</td>\n",
              "      <td>89</td>\n",
              "      <td>62.0</td>\n",
              "      <td>8.13</td>\n",
              "      <td>64.0</td>\n",
              "      <td>0.1</td>\n",
              "      <td>17.7</td>\n",
              "      <td>17.7</td>\n",
              "      <td>0.470</td>\n",
              "      <td>9.9</td>\n",
              "    </tr>\n",
              "    <tr>\n",
              "      <th>3</th>\n",
              "      <td>Afghanistan</td>\n",
              "      <td>2012</td>\n",
              "      <td>Developing</td>\n",
              "      <td>59.5</td>\n",
              "      <td>272.0</td>\n",
              "      <td>69</td>\n",
              "      <td>0.01</td>\n",
              "      <td>78.184215</td>\n",
              "      <td>2787</td>\n",
              "      <td>17.6</td>\n",
              "      <td>93</td>\n",
              "      <td>67.0</td>\n",
              "      <td>8.52</td>\n",
              "      <td>67.0</td>\n",
              "      <td>0.1</td>\n",
              "      <td>17.9</td>\n",
              "      <td>18.0</td>\n",
              "      <td>0.463</td>\n",
              "      <td>9.8</td>\n",
              "    </tr>\n",
              "    <tr>\n",
              "      <th>4</th>\n",
              "      <td>Afghanistan</td>\n",
              "      <td>2011</td>\n",
              "      <td>Developing</td>\n",
              "      <td>59.2</td>\n",
              "      <td>275.0</td>\n",
              "      <td>71</td>\n",
              "      <td>0.01</td>\n",
              "      <td>7.097109</td>\n",
              "      <td>3013</td>\n",
              "      <td>17.2</td>\n",
              "      <td>97</td>\n",
              "      <td>68.0</td>\n",
              "      <td>7.87</td>\n",
              "      <td>68.0</td>\n",
              "      <td>0.1</td>\n",
              "      <td>18.2</td>\n",
              "      <td>18.2</td>\n",
              "      <td>0.454</td>\n",
              "      <td>9.5</td>\n",
              "    </tr>\n",
              "    <tr>\n",
              "      <th>...</th>\n",
              "      <td>...</td>\n",
              "      <td>...</td>\n",
              "      <td>...</td>\n",
              "      <td>...</td>\n",
              "      <td>...</td>\n",
              "      <td>...</td>\n",
              "      <td>...</td>\n",
              "      <td>...</td>\n",
              "      <td>...</td>\n",
              "      <td>...</td>\n",
              "      <td>...</td>\n",
              "      <td>...</td>\n",
              "      <td>...</td>\n",
              "      <td>...</td>\n",
              "      <td>...</td>\n",
              "      <td>...</td>\n",
              "      <td>...</td>\n",
              "      <td>...</td>\n",
              "      <td>...</td>\n",
              "    </tr>\n",
              "    <tr>\n",
              "      <th>2933</th>\n",
              "      <td>Zimbabwe</td>\n",
              "      <td>2004</td>\n",
              "      <td>Developing</td>\n",
              "      <td>44.3</td>\n",
              "      <td>723.0</td>\n",
              "      <td>27</td>\n",
              "      <td>4.36</td>\n",
              "      <td>0.000000</td>\n",
              "      <td>31</td>\n",
              "      <td>27.1</td>\n",
              "      <td>42</td>\n",
              "      <td>67.0</td>\n",
              "      <td>7.13</td>\n",
              "      <td>65.0</td>\n",
              "      <td>33.6</td>\n",
              "      <td>9.4</td>\n",
              "      <td>9.4</td>\n",
              "      <td>0.407</td>\n",
              "      <td>9.2</td>\n",
              "    </tr>\n",
              "    <tr>\n",
              "      <th>2934</th>\n",
              "      <td>Zimbabwe</td>\n",
              "      <td>2003</td>\n",
              "      <td>Developing</td>\n",
              "      <td>44.5</td>\n",
              "      <td>715.0</td>\n",
              "      <td>26</td>\n",
              "      <td>4.06</td>\n",
              "      <td>0.000000</td>\n",
              "      <td>998</td>\n",
              "      <td>26.7</td>\n",
              "      <td>41</td>\n",
              "      <td>7.0</td>\n",
              "      <td>6.52</td>\n",
              "      <td>68.0</td>\n",
              "      <td>36.7</td>\n",
              "      <td>9.8</td>\n",
              "      <td>9.9</td>\n",
              "      <td>0.418</td>\n",
              "      <td>9.5</td>\n",
              "    </tr>\n",
              "    <tr>\n",
              "      <th>2935</th>\n",
              "      <td>Zimbabwe</td>\n",
              "      <td>2002</td>\n",
              "      <td>Developing</td>\n",
              "      <td>44.8</td>\n",
              "      <td>73.0</td>\n",
              "      <td>25</td>\n",
              "      <td>4.43</td>\n",
              "      <td>0.000000</td>\n",
              "      <td>304</td>\n",
              "      <td>26.3</td>\n",
              "      <td>40</td>\n",
              "      <td>73.0</td>\n",
              "      <td>6.53</td>\n",
              "      <td>71.0</td>\n",
              "      <td>39.8</td>\n",
              "      <td>1.2</td>\n",
              "      <td>1.3</td>\n",
              "      <td>0.427</td>\n",
              "      <td>10.0</td>\n",
              "    </tr>\n",
              "    <tr>\n",
              "      <th>2936</th>\n",
              "      <td>Zimbabwe</td>\n",
              "      <td>2001</td>\n",
              "      <td>Developing</td>\n",
              "      <td>45.3</td>\n",
              "      <td>686.0</td>\n",
              "      <td>25</td>\n",
              "      <td>1.72</td>\n",
              "      <td>0.000000</td>\n",
              "      <td>529</td>\n",
              "      <td>25.9</td>\n",
              "      <td>39</td>\n",
              "      <td>76.0</td>\n",
              "      <td>6.16</td>\n",
              "      <td>75.0</td>\n",
              "      <td>42.1</td>\n",
              "      <td>1.6</td>\n",
              "      <td>1.7</td>\n",
              "      <td>0.427</td>\n",
              "      <td>9.8</td>\n",
              "    </tr>\n",
              "    <tr>\n",
              "      <th>2937</th>\n",
              "      <td>Zimbabwe</td>\n",
              "      <td>2000</td>\n",
              "      <td>Developing</td>\n",
              "      <td>46.0</td>\n",
              "      <td>665.0</td>\n",
              "      <td>24</td>\n",
              "      <td>1.68</td>\n",
              "      <td>0.000000</td>\n",
              "      <td>1483</td>\n",
              "      <td>25.5</td>\n",
              "      <td>39</td>\n",
              "      <td>78.0</td>\n",
              "      <td>7.10</td>\n",
              "      <td>78.0</td>\n",
              "      <td>43.5</td>\n",
              "      <td>11.0</td>\n",
              "      <td>11.2</td>\n",
              "      <td>0.434</td>\n",
              "      <td>9.8</td>\n",
              "    </tr>\n",
              "  </tbody>\n",
              "</table>\n",
              "<p>2426 rows × 19 columns</p>\n",
              "</div>"
            ],
            "text/plain": [
              "          Country  Year  ... Income composition of resources  Schooling\n",
              "0     Afghanistan  2015  ...                           0.479       10.1\n",
              "1     Afghanistan  2014  ...                           0.476       10.0\n",
              "2     Afghanistan  2013  ...                           0.470        9.9\n",
              "3     Afghanistan  2012  ...                           0.463        9.8\n",
              "4     Afghanistan  2011  ...                           0.454        9.5\n",
              "...           ...   ...  ...                             ...        ...\n",
              "2933     Zimbabwe  2004  ...                           0.407        9.2\n",
              "2934     Zimbabwe  2003  ...                           0.418        9.5\n",
              "2935     Zimbabwe  2002  ...                           0.427       10.0\n",
              "2936     Zimbabwe  2001  ...                           0.427        9.8\n",
              "2937     Zimbabwe  2000  ...                           0.434        9.8\n",
              "\n",
              "[2426 rows x 19 columns]"
            ]
          },
          "metadata": {
            "tags": []
          },
          "execution_count": 17
        }
      ]
    },
    {
      "cell_type": "code",
      "metadata": {
        "id": "vwh_CmUyKSk5",
        "colab": {
          "base_uri": "https://localhost:8080/",
          "height": 221
        },
        "outputId": "6749db86-fc1d-4553-9ecc-4adb5647b41c"
      },
      "source": [
        "# Check for the null values in the developing countries DataFrame\n",
        "developing_df[cols_having_null_values].isnull().sum()"
      ],
      "execution_count": null,
      "outputs": [
        {
          "output_type": "execute_result",
          "data": {
            "text/plain": [
              "Life expectancy                     10\n",
              "Adult Mortality                     10\n",
              "Alcohol                            166\n",
              "BMI                                 34\n",
              "Polio                               19\n",
              "Total expenditure                  194\n",
              "Diphtheria                          19\n",
              "thinness  1-19 years                34\n",
              "thinness 5-9 years                  34\n",
              "Income composition of resources    119\n",
              "Schooling                          115\n",
              "dtype: int64"
            ]
          },
          "metadata": {
            "tags": []
          },
          "execution_count": 18
        }
      ]
    },
    {
      "cell_type": "code",
      "metadata": {
        "id": "fVraxVFta5Og",
        "colab": {
          "base_uri": "https://localhost:8080/",
          "height": 314
        },
        "outputId": "a332863d-2645-4f10-ad6d-92492362d2d1"
      },
      "source": [
        "# Get a descriptive statistics summary of the columns having the null values in the developing countries DataFrame\n",
        "developing_df[cols_having_null_values].describe()"
      ],
      "execution_count": null,
      "outputs": [
        {
          "output_type": "execute_result",
          "data": {
            "text/html": [
              "<div>\n",
              "<style scoped>\n",
              "    .dataframe tbody tr th:only-of-type {\n",
              "        vertical-align: middle;\n",
              "    }\n",
              "\n",
              "    .dataframe tbody tr th {\n",
              "        vertical-align: top;\n",
              "    }\n",
              "\n",
              "    .dataframe thead th {\n",
              "        text-align: right;\n",
              "    }\n",
              "</style>\n",
              "<table border=\"1\" class=\"dataframe\">\n",
              "  <thead>\n",
              "    <tr style=\"text-align: right;\">\n",
              "      <th></th>\n",
              "      <th>Life expectancy</th>\n",
              "      <th>Adult Mortality</th>\n",
              "      <th>Alcohol</th>\n",
              "      <th>BMI</th>\n",
              "      <th>Polio</th>\n",
              "      <th>Total expenditure</th>\n",
              "      <th>Diphtheria</th>\n",
              "      <th>thinness  1-19 years</th>\n",
              "      <th>thinness 5-9 years</th>\n",
              "      <th>Income composition of resources</th>\n",
              "      <th>Schooling</th>\n",
              "    </tr>\n",
              "  </thead>\n",
              "  <tbody>\n",
              "    <tr>\n",
              "      <th>count</th>\n",
              "      <td>2416.000000</td>\n",
              "      <td>2416.000000</td>\n",
              "      <td>2260.000000</td>\n",
              "      <td>2392.000000</td>\n",
              "      <td>2407.000000</td>\n",
              "      <td>2232.000000</td>\n",
              "      <td>2407.000000</td>\n",
              "      <td>2392.000000</td>\n",
              "      <td>2392.000000</td>\n",
              "      <td>2307.000000</td>\n",
              "      <td>2311.000000</td>\n",
              "    </tr>\n",
              "    <tr>\n",
              "      <th>mean</th>\n",
              "      <td>67.111465</td>\n",
              "      <td>182.833195</td>\n",
              "      <td>3.484119</td>\n",
              "      <td>35.435326</td>\n",
              "      <td>80.170752</td>\n",
              "      <td>5.590694</td>\n",
              "      <td>79.951807</td>\n",
              "      <td>5.592935</td>\n",
              "      <td>5.635242</td>\n",
              "      <td>0.582310</td>\n",
              "      <td>11.219256</td>\n",
              "    </tr>\n",
              "    <tr>\n",
              "      <th>std</th>\n",
              "      <td>9.006092</td>\n",
              "      <td>127.974557</td>\n",
              "      <td>3.347537</td>\n",
              "      <td>19.425091</td>\n",
              "      <td>24.671531</td>\n",
              "      <td>2.233756</td>\n",
              "      <td>24.834300</td>\n",
              "      <td>4.514453</td>\n",
              "      <td>4.606130</td>\n",
              "      <td>0.201597</td>\n",
              "      <td>3.056601</td>\n",
              "    </tr>\n",
              "    <tr>\n",
              "      <th>min</th>\n",
              "      <td>36.300000</td>\n",
              "      <td>1.000000</td>\n",
              "      <td>0.010000</td>\n",
              "      <td>1.000000</td>\n",
              "      <td>3.000000</td>\n",
              "      <td>0.370000</td>\n",
              "      <td>2.000000</td>\n",
              "      <td>0.100000</td>\n",
              "      <td>0.100000</td>\n",
              "      <td>0.000000</td>\n",
              "      <td>0.000000</td>\n",
              "    </tr>\n",
              "    <tr>\n",
              "      <th>25%</th>\n",
              "      <td>61.100000</td>\n",
              "      <td>92.000000</td>\n",
              "      <td>0.517500</td>\n",
              "      <td>18.300000</td>\n",
              "      <td>74.000000</td>\n",
              "      <td>4.140000</td>\n",
              "      <td>75.000000</td>\n",
              "      <td>2.100000</td>\n",
              "      <td>2.100000</td>\n",
              "      <td>0.466500</td>\n",
              "      <td>9.600000</td>\n",
              "    </tr>\n",
              "    <tr>\n",
              "      <th>50%</th>\n",
              "      <td>69.000000</td>\n",
              "      <td>163.000000</td>\n",
              "      <td>2.560000</td>\n",
              "      <td>35.200000</td>\n",
              "      <td>91.000000</td>\n",
              "      <td>5.400000</td>\n",
              "      <td>91.000000</td>\n",
              "      <td>4.500000</td>\n",
              "      <td>4.600000</td>\n",
              "      <td>0.631000</td>\n",
              "      <td>11.700000</td>\n",
              "    </tr>\n",
              "    <tr>\n",
              "      <th>75%</th>\n",
              "      <td>74.000000</td>\n",
              "      <td>253.000000</td>\n",
              "      <td>5.750000</td>\n",
              "      <td>53.200000</td>\n",
              "      <td>97.000000</td>\n",
              "      <td>6.830000</td>\n",
              "      <td>96.500000</td>\n",
              "      <td>7.725000</td>\n",
              "      <td>7.800000</td>\n",
              "      <td>0.727000</td>\n",
              "      <td>13.200000</td>\n",
              "    </tr>\n",
              "    <tr>\n",
              "      <th>max</th>\n",
              "      <td>89.000000</td>\n",
              "      <td>723.000000</td>\n",
              "      <td>17.870000</td>\n",
              "      <td>87.300000</td>\n",
              "      <td>99.000000</td>\n",
              "      <td>17.240000</td>\n",
              "      <td>99.000000</td>\n",
              "      <td>27.700000</td>\n",
              "      <td>28.600000</td>\n",
              "      <td>0.919000</td>\n",
              "      <td>18.300000</td>\n",
              "    </tr>\n",
              "  </tbody>\n",
              "</table>\n",
              "</div>"
            ],
            "text/plain": [
              "       Life expectancy  ...    Schooling\n",
              "count      2416.000000  ...  2311.000000\n",
              "mean         67.111465  ...    11.219256\n",
              "std           9.006092  ...     3.056601\n",
              "min          36.300000  ...     0.000000\n",
              "25%          61.100000  ...     9.600000\n",
              "50%          69.000000  ...    11.700000\n",
              "75%          74.000000  ...    13.200000\n",
              "max          89.000000  ...    18.300000\n",
              "\n",
              "[8 rows x 11 columns]"
            ]
          },
          "metadata": {
            "tags": []
          },
          "execution_count": 19
        }
      ]
    },
    {
      "cell_type": "code",
      "metadata": {
        "id": "YKPbxaDDa8CK",
        "colab": {
          "base_uri": "https://localhost:8080/",
          "height": 102
        },
        "outputId": "57175b9a-03f8-4f13-88bc-5d755813d060"
      },
      "source": [
        "# Replace the missing values of the developing countries DataFrame with the median value of the respective columns.\n",
        "for col in cols_having_null_values:\n",
        "  developing_df[col].fillna((developing_df[col].median()), inplace = True)"
      ],
      "execution_count": null,
      "outputs": [
        {
          "output_type": "stream",
          "text": [
            "/usr/local/lib/python3.6/dist-packages/pandas/core/generic.py:6245: SettingWithCopyWarning: \n",
            "A value is trying to be set on a copy of a slice from a DataFrame\n",
            "\n",
            "See the caveats in the documentation: https://pandas.pydata.org/pandas-docs/stable/user_guide/indexing.html#returning-a-view-versus-a-copy\n",
            "  self._update_inplace(new_data)\n"
          ],
          "name": "stderr"
        }
      ]
    },
    {
      "cell_type": "code",
      "metadata": {
        "id": "dMdWs1sKbE5N",
        "colab": {
          "base_uri": "https://localhost:8080/",
          "height": 314
        },
        "outputId": "b4dc9649-efaf-4122-bf0b-af703a224dff"
      },
      "source": [
        "# Again get a descriptive statistics summary of the DataFrame to verify that the replaced values did not disrupt the data \n",
        "developing_df[cols_having_null_values].describe()"
      ],
      "execution_count": null,
      "outputs": [
        {
          "output_type": "execute_result",
          "data": {
            "text/html": [
              "<div>\n",
              "<style scoped>\n",
              "    .dataframe tbody tr th:only-of-type {\n",
              "        vertical-align: middle;\n",
              "    }\n",
              "\n",
              "    .dataframe tbody tr th {\n",
              "        vertical-align: top;\n",
              "    }\n",
              "\n",
              "    .dataframe thead th {\n",
              "        text-align: right;\n",
              "    }\n",
              "</style>\n",
              "<table border=\"1\" class=\"dataframe\">\n",
              "  <thead>\n",
              "    <tr style=\"text-align: right;\">\n",
              "      <th></th>\n",
              "      <th>Life expectancy</th>\n",
              "      <th>Adult Mortality</th>\n",
              "      <th>Alcohol</th>\n",
              "      <th>BMI</th>\n",
              "      <th>Polio</th>\n",
              "      <th>Total expenditure</th>\n",
              "      <th>Diphtheria</th>\n",
              "      <th>thinness  1-19 years</th>\n",
              "      <th>thinness 5-9 years</th>\n",
              "      <th>Income composition of resources</th>\n",
              "      <th>Schooling</th>\n",
              "    </tr>\n",
              "  </thead>\n",
              "  <tbody>\n",
              "    <tr>\n",
              "      <th>count</th>\n",
              "      <td>2426.000000</td>\n",
              "      <td>2426.000000</td>\n",
              "      <td>2426.000000</td>\n",
              "      <td>2426.000000</td>\n",
              "      <td>2426.000000</td>\n",
              "      <td>2426.000000</td>\n",
              "      <td>2426.000000</td>\n",
              "      <td>2426.000000</td>\n",
              "      <td>2426.000000</td>\n",
              "      <td>2426.000000</td>\n",
              "      <td>2426.000000</td>\n",
              "    </tr>\n",
              "    <tr>\n",
              "      <th>mean</th>\n",
              "      <td>67.119250</td>\n",
              "      <td>182.751443</td>\n",
              "      <td>3.420886</td>\n",
              "      <td>35.432028</td>\n",
              "      <td>80.255565</td>\n",
              "      <td>5.575445</td>\n",
              "      <td>80.038335</td>\n",
              "      <td>5.577617</td>\n",
              "      <td>5.620734</td>\n",
              "      <td>0.584698</td>\n",
              "      <td>11.242045</td>\n",
              "    </tr>\n",
              "    <tr>\n",
              "      <th>std</th>\n",
              "      <td>8.988318</td>\n",
              "      <td>127.716744</td>\n",
              "      <td>3.239347</td>\n",
              "      <td>19.288454</td>\n",
              "      <td>24.593231</td>\n",
              "      <td>2.143168</td>\n",
              "      <td>24.755992</td>\n",
              "      <td>4.484535</td>\n",
              "      <td>4.575345</td>\n",
              "      <td>0.196869</td>\n",
              "      <td>2.984994</td>\n",
              "    </tr>\n",
              "    <tr>\n",
              "      <th>min</th>\n",
              "      <td>36.300000</td>\n",
              "      <td>1.000000</td>\n",
              "      <td>0.010000</td>\n",
              "      <td>1.000000</td>\n",
              "      <td>3.000000</td>\n",
              "      <td>0.370000</td>\n",
              "      <td>2.000000</td>\n",
              "      <td>0.100000</td>\n",
              "      <td>0.100000</td>\n",
              "      <td>0.000000</td>\n",
              "      <td>0.000000</td>\n",
              "    </tr>\n",
              "    <tr>\n",
              "      <th>25%</th>\n",
              "      <td>61.100000</td>\n",
              "      <td>92.250000</td>\n",
              "      <td>0.580000</td>\n",
              "      <td>18.400000</td>\n",
              "      <td>74.000000</td>\n",
              "      <td>4.252500</td>\n",
              "      <td>75.000000</td>\n",
              "      <td>2.100000</td>\n",
              "      <td>2.100000</td>\n",
              "      <td>0.475000</td>\n",
              "      <td>9.700000</td>\n",
              "    </tr>\n",
              "    <tr>\n",
              "      <th>50%</th>\n",
              "      <td>69.000000</td>\n",
              "      <td>163.000000</td>\n",
              "      <td>2.560000</td>\n",
              "      <td>35.200000</td>\n",
              "      <td>91.000000</td>\n",
              "      <td>5.400000</td>\n",
              "      <td>91.000000</td>\n",
              "      <td>4.500000</td>\n",
              "      <td>4.600000</td>\n",
              "      <td>0.631000</td>\n",
              "      <td>11.700000</td>\n",
              "    </tr>\n",
              "    <tr>\n",
              "      <th>75%</th>\n",
              "      <td>74.000000</td>\n",
              "      <td>252.750000</td>\n",
              "      <td>5.390000</td>\n",
              "      <td>53.075000</td>\n",
              "      <td>97.000000</td>\n",
              "      <td>6.700000</td>\n",
              "      <td>96.000000</td>\n",
              "      <td>7.700000</td>\n",
              "      <td>7.700000</td>\n",
              "      <td>0.722000</td>\n",
              "      <td>13.100000</td>\n",
              "    </tr>\n",
              "    <tr>\n",
              "      <th>max</th>\n",
              "      <td>89.000000</td>\n",
              "      <td>723.000000</td>\n",
              "      <td>17.870000</td>\n",
              "      <td>87.300000</td>\n",
              "      <td>99.000000</td>\n",
              "      <td>17.240000</td>\n",
              "      <td>99.000000</td>\n",
              "      <td>27.700000</td>\n",
              "      <td>28.600000</td>\n",
              "      <td>0.919000</td>\n",
              "      <td>18.300000</td>\n",
              "    </tr>\n",
              "  </tbody>\n",
              "</table>\n",
              "</div>"
            ],
            "text/plain": [
              "       Life expectancy  ...    Schooling\n",
              "count      2426.000000  ...  2426.000000\n",
              "mean         67.119250  ...    11.242045\n",
              "std           8.988318  ...     2.984994\n",
              "min          36.300000  ...     0.000000\n",
              "25%          61.100000  ...     9.700000\n",
              "50%          69.000000  ...    11.700000\n",
              "75%          74.000000  ...    13.100000\n",
              "max          89.000000  ...    18.300000\n",
              "\n",
              "[8 rows x 11 columns]"
            ]
          },
          "metadata": {
            "tags": []
          },
          "execution_count": 21
        }
      ]
    },
    {
      "cell_type": "code",
      "metadata": {
        "id": "i4L10ILJLDUk",
        "colab": {
          "base_uri": "https://localhost:8080/",
          "height": 221
        },
        "outputId": "1711cf09-6287-427f-b863-a542d9e1c798"
      },
      "source": [
        "# Again check whether there are any missing values\n",
        "developing_df[cols_having_null_values].isnull().sum()"
      ],
      "execution_count": null,
      "outputs": [
        {
          "output_type": "execute_result",
          "data": {
            "text/plain": [
              "Life expectancy                    0\n",
              "Adult Mortality                    0\n",
              "Alcohol                            0\n",
              "BMI                                0\n",
              "Polio                              0\n",
              "Total expenditure                  0\n",
              "Diphtheria                         0\n",
              "thinness  1-19 years               0\n",
              "thinness 5-9 years                 0\n",
              "Income composition of resources    0\n",
              "Schooling                          0\n",
              "dtype: int64"
            ]
          },
          "metadata": {
            "tags": []
          },
          "execution_count": 22
        }
      ]
    },
    {
      "cell_type": "markdown",
      "metadata": {
        "id": "-gNsMM1pn4Dl"
      },
      "source": [
        "---"
      ]
    },
    {
      "cell_type": "markdown",
      "metadata": {
        "id": "iTuc0PZabaqp"
      },
      "source": [
        "#### 4. Life Expectancy  w.r.t Year\n",
        "\n",
        "Find out whether the average age of death had increased globally in a period of 15 years i.e. from the year 2000 to 2015. Create a bar plot to depict this relationship."
      ]
    },
    {
      "cell_type": "code",
      "metadata": {
        "id": "uFPD0_1VbZeN",
        "colab": {
          "base_uri": "https://localhost:8080/",
          "height": 353
        },
        "outputId": "22eb3566-4af6-43f4-9268-baa7a2f5b7bc"
      },
      "source": [
        "# Life expectancy w.r.t Year using bar plot for developed countries\n",
        "plt.figure(figsize = (18, 5))\n",
        "\n",
        "plt.bar(developed_df.groupby('Year')['Year'].unique(), developed_df.groupby('Year')['Life expectancy'].mean())\n",
        "plt.xlabel(\"Year\", fontsize = 12)\n",
        "plt.ylabel(\"Average Life Expectancy\", fontsize = 12)\n",
        "plt.title(\"Average Life Expectancy w.r.t Year\")\n",
        "plt.show()"
      ],
      "execution_count": null,
      "outputs": [
        {
          "output_type": "display_data",
          "data": {
            "image/png": "[encoded data removed]",
            "text/plain": [
              "<Figure size 1296x360 with 1 Axes>"
            ]
          },
          "metadata": {
            "tags": [],
            "needs_background": "light"
          }
        }
      ]
    },
    {
      "cell_type": "code",
      "metadata": {
        "id": "ArhsmGBycXTG",
        "colab": {
          "base_uri": "https://localhost:8080/",
          "height": 353
        },
        "outputId": "3efb78ac-3af1-4a4b-c34a-2b149d88fef5"
      },
      "source": [
        "# Life expectancy w.r.t Year using bar plot for developing countries\n",
        "plt.figure(figsize = (18, 5))\n",
        "\n",
        "plt.bar(developing_df.groupby('Year')['Year'].unique(), developing_df.groupby('Year')['Life expectancy'].mean())\n",
        "plt.xlabel(\"Year\", fontsize = 12)\n",
        "plt.ylabel(\"Average Life Expectancy\", fontsize = 12)\n",
        "plt.title(\"Average Life Expectancy w.r.t Year\")\n",
        "plt.show()"
      ],
      "execution_count": null,
      "outputs": [
        {
          "output_type": "display_data",
          "data": {
            "image/png": "[encoded data removed]",
            "text/plain": [
              "<Figure size 1296x360 with 1 Axes>"
            ]
          },
          "metadata": {
            "tags": [],
            "needs_background": "light"
          }
        }
      ]
    },
    {
      "cell_type": "markdown",
      "metadata": {
        "id": "RBZECrMaeXg_"
      },
      "source": [
        "**Q:** Do you find any increase in the average life expectancy over 15 years?\n",
        "\n",
        "**A:** Yes\n",
        "\n",
        "**Q:** In which year, the average life expectancy was maximum?\n",
        "\n",
        "**A:** 2015"
      ]
    },
    {
      "cell_type": "markdown",
      "metadata": {
        "id": "7u3d8X9he8c5"
      },
      "source": [
        "---"
      ]
    },
    {
      "cell_type": "markdown",
      "metadata": {
        "id": "dCHlzsyge9th"
      },
      "source": [
        "#### 5. Developing versus Developed Countries\n",
        "\n",
        "Find out whether the people living in developing countries die early as compared to those living in developed countries."
      ]
    },
    {
      "cell_type": "code",
      "metadata": {
        "id": "IlmGGTNejvkn",
        "colab": {
          "base_uri": "https://localhost:8080/",
          "height": 334
        },
        "outputId": "ef710776-f74d-4243-e9b7-e1bf998881e9"
      },
      "source": [
        "# Create a bar plot for yearly life expectancy of developing and developed countries in a single bar chart.\n",
        "plt.figure(figsize=(18, 5))\n",
        "sns.barplot(x='Year', y='Life expectancy', hue='Status', data=df)\n",
        "plt.show()"
      ],
      "execution_count": null,
      "outputs": [
        {
          "output_type": "display_data",
          "data": {
            "image/png": "[encoded data removed]",
            "text/plain": [
              "<Figure size 1296x360 with 1 Axes>"
            ]
          },
          "metadata": {
            "tags": [],
            "needs_background": "light"
          }
        }
      ]
    },
    {
      "cell_type": "code",
      "metadata": {
        "id": "p6xdc97yKaAS",
        "colab": {
          "base_uri": "https://localhost:8080/",
          "height": 142
        },
        "outputId": "23320060-9336-44e9-bb74-81b9dea33735"
      },
      "source": [
        "# Find the overall average life expectancy of developed and developing countries\n",
        "round(df[['Status','Life expectancy']].groupby(['Status']).mean())"
      ],
      "execution_count": null,
      "outputs": [
        {
          "output_type": "execute_result",
          "data": {
            "text/html": [
              "<div>\n",
              "<style scoped>\n",
              "    .dataframe tbody tr th:only-of-type {\n",
              "        vertical-align: middle;\n",
              "    }\n",
              "\n",
              "    .dataframe tbody tr th {\n",
              "        vertical-align: top;\n",
              "    }\n",
              "\n",
              "    .dataframe thead th {\n",
              "        text-align: right;\n",
              "    }\n",
              "</style>\n",
              "<table border=\"1\" class=\"dataframe\">\n",
              "  <thead>\n",
              "    <tr style=\"text-align: right;\">\n",
              "      <th></th>\n",
              "      <th>Life expectancy</th>\n",
              "    </tr>\n",
              "    <tr>\n",
              "      <th>Status</th>\n",
              "      <th></th>\n",
              "    </tr>\n",
              "  </thead>\n",
              "  <tbody>\n",
              "    <tr>\n",
              "      <th>Developed</th>\n",
              "      <td>79.0</td>\n",
              "    </tr>\n",
              "    <tr>\n",
              "      <th>Developing</th>\n",
              "      <td>67.0</td>\n",
              "    </tr>\n",
              "  </tbody>\n",
              "</table>\n",
              "</div>"
            ],
            "text/plain": [
              "            Life expectancy\n",
              "Status                     \n",
              "Developed              79.0\n",
              "Developing             67.0"
            ]
          },
          "metadata": {
            "tags": []
          },
          "execution_count": 26
        }
      ]
    },
    {
      "cell_type": "markdown",
      "metadata": {
        "id": "g5OlyS0bkTu2"
      },
      "source": [
        "**Q:** Is there a huge difference in the average life expectancies of developing and developed countries?\n",
        "\n",
        "**A:** Yes"
      ]
    },
    {
      "cell_type": "markdown",
      "metadata": {
        "id": "KKn8vnvyklrp"
      },
      "source": [
        "---"
      ]
    },
    {
      "cell_type": "markdown",
      "metadata": {
        "id": "PPItm0BrOJ0R"
      },
      "source": [
        "#### 6. Probability Distribution of Life Expectancy\n",
        "\n",
        "Let us find out how many developing countries had extremely low life expectancy in the year 2015. Perform the following tasks:\n",
        "- Create a line plot for the life expectancy of developing countries for the year 2015 with life expectancy on the X-axis and their corresponding probability densities on the Y-axis.\n",
        "\n",
        "- Also, find out how many developing countries had extremely low life expectancy i.e. below 60 in the year 2015. Use $Z$-score and `cdf()` function to find the probability of the random variable $X \\le 60$.\n",
        "\n",
        "- List down the names of the developing countries that had a life expectancy below 60 years in the year 2015.\n",
        "\n",
        "\n",
        "**Note:** Instead of applying the `cdf()` function, you can also use `integrate` module of the `scipy` package.\n"
      ]
    },
    {
      "cell_type": "code",
      "metadata": {
        "id": "TVcejg4r8t7L"
      },
      "source": [
        "# Create a Python function to calculate the individual probabilities of all the life expectancies\n",
        "def prob_density_func(arr, mean, std):\n",
        "  coeff = 1 / (std * np.sqrt(2 * np.pi))\n",
        "  power_of_e = np.exp(-(arr - mean) ** 2 / (2 * std ** 2))\n",
        "  prob = coeff * power_of_e\n",
        "  return prob"
      ],
      "execution_count": null,
      "outputs": []
    },
    {
      "cell_type": "code",
      "metadata": {
        "id": "to9gzAplaeVV",
        "colab": {
          "base_uri": "https://localhost:8080/",
          "height": 575
        },
        "outputId": "3b0daaee-c440-486e-f4aa-3d36847c3dff"
      },
      "source": [
        "# Create a DataFrame of developing countries for year 2015\n",
        "developing_df_2015=developing_df[developing_df['Year'] == 2015]\n",
        "developing_df_2015"
      ],
      "execution_count": null,
      "outputs": [
        {
          "output_type": "execute_result",
          "data": {
            "text/html": [
              "<div>\n",
              "<style scoped>\n",
              "    .dataframe tbody tr th:only-of-type {\n",
              "        vertical-align: middle;\n",
              "    }\n",
              "\n",
              "    .dataframe tbody tr th {\n",
              "        vertical-align: top;\n",
              "    }\n",
              "\n",
              "    .dataframe thead th {\n",
              "        text-align: right;\n",
              "    }\n",
              "</style>\n",
              "<table border=\"1\" class=\"dataframe\">\n",
              "  <thead>\n",
              "    <tr style=\"text-align: right;\">\n",
              "      <th></th>\n",
              "      <th>Country</th>\n",
              "      <th>Year</th>\n",
              "      <th>Status</th>\n",
              "      <th>Life expectancy</th>\n",
              "      <th>Adult Mortality</th>\n",
              "      <th>infant deaths</th>\n",
              "      <th>Alcohol</th>\n",
              "      <th>percentage expenditure</th>\n",
              "      <th>Measles</th>\n",
              "      <th>BMI</th>\n",
              "      <th>under-five deaths</th>\n",
              "      <th>Polio</th>\n",
              "      <th>Total expenditure</th>\n",
              "      <th>Diphtheria</th>\n",
              "      <th>HIV/AIDS</th>\n",
              "      <th>thinness  1-19 years</th>\n",
              "      <th>thinness 5-9 years</th>\n",
              "      <th>Income composition of resources</th>\n",
              "      <th>Schooling</th>\n",
              "    </tr>\n",
              "  </thead>\n",
              "  <tbody>\n",
              "    <tr>\n",
              "      <th>0</th>\n",
              "      <td>Afghanistan</td>\n",
              "      <td>2015</td>\n",
              "      <td>Developing</td>\n",
              "      <td>65.0</td>\n",
              "      <td>263.0</td>\n",
              "      <td>62</td>\n",
              "      <td>0.01</td>\n",
              "      <td>71.279624</td>\n",
              "      <td>1154</td>\n",
              "      <td>19.1</td>\n",
              "      <td>83</td>\n",
              "      <td>6.0</td>\n",
              "      <td>8.16</td>\n",
              "      <td>65.0</td>\n",
              "      <td>0.1</td>\n",
              "      <td>17.2</td>\n",
              "      <td>17.3</td>\n",
              "      <td>0.479</td>\n",
              "      <td>10.1</td>\n",
              "    </tr>\n",
              "    <tr>\n",
              "      <th>16</th>\n",
              "      <td>Albania</td>\n",
              "      <td>2015</td>\n",
              "      <td>Developing</td>\n",
              "      <td>77.8</td>\n",
              "      <td>74.0</td>\n",
              "      <td>0</td>\n",
              "      <td>4.60</td>\n",
              "      <td>364.975229</td>\n",
              "      <td>0</td>\n",
              "      <td>58.0</td>\n",
              "      <td>0</td>\n",
              "      <td>99.0</td>\n",
              "      <td>6.00</td>\n",
              "      <td>99.0</td>\n",
              "      <td>0.1</td>\n",
              "      <td>1.2</td>\n",
              "      <td>1.3</td>\n",
              "      <td>0.762</td>\n",
              "      <td>14.2</td>\n",
              "    </tr>\n",
              "    <tr>\n",
              "      <th>32</th>\n",
              "      <td>Algeria</td>\n",
              "      <td>2015</td>\n",
              "      <td>Developing</td>\n",
              "      <td>75.6</td>\n",
              "      <td>19.0</td>\n",
              "      <td>21</td>\n",
              "      <td>2.56</td>\n",
              "      <td>0.000000</td>\n",
              "      <td>63</td>\n",
              "      <td>59.5</td>\n",
              "      <td>24</td>\n",
              "      <td>95.0</td>\n",
              "      <td>5.40</td>\n",
              "      <td>95.0</td>\n",
              "      <td>0.1</td>\n",
              "      <td>6.0</td>\n",
              "      <td>5.8</td>\n",
              "      <td>0.743</td>\n",
              "      <td>14.4</td>\n",
              "    </tr>\n",
              "    <tr>\n",
              "      <th>48</th>\n",
              "      <td>Angola</td>\n",
              "      <td>2015</td>\n",
              "      <td>Developing</td>\n",
              "      <td>52.4</td>\n",
              "      <td>335.0</td>\n",
              "      <td>66</td>\n",
              "      <td>2.56</td>\n",
              "      <td>0.000000</td>\n",
              "      <td>118</td>\n",
              "      <td>23.3</td>\n",
              "      <td>98</td>\n",
              "      <td>7.0</td>\n",
              "      <td>5.40</td>\n",
              "      <td>64.0</td>\n",
              "      <td>1.9</td>\n",
              "      <td>8.3</td>\n",
              "      <td>8.2</td>\n",
              "      <td>0.531</td>\n",
              "      <td>11.4</td>\n",
              "    </tr>\n",
              "    <tr>\n",
              "      <th>64</th>\n",
              "      <td>Antigua and Barbuda</td>\n",
              "      <td>2015</td>\n",
              "      <td>Developing</td>\n",
              "      <td>76.4</td>\n",
              "      <td>13.0</td>\n",
              "      <td>0</td>\n",
              "      <td>2.56</td>\n",
              "      <td>0.000000</td>\n",
              "      <td>0</td>\n",
              "      <td>47.7</td>\n",
              "      <td>0</td>\n",
              "      <td>86.0</td>\n",
              "      <td>5.40</td>\n",
              "      <td>99.0</td>\n",
              "      <td>0.2</td>\n",
              "      <td>3.3</td>\n",
              "      <td>3.3</td>\n",
              "      <td>0.784</td>\n",
              "      <td>13.9</td>\n",
              "    </tr>\n",
              "    <tr>\n",
              "      <th>...</th>\n",
              "      <td>...</td>\n",
              "      <td>...</td>\n",
              "      <td>...</td>\n",
              "      <td>...</td>\n",
              "      <td>...</td>\n",
              "      <td>...</td>\n",
              "      <td>...</td>\n",
              "      <td>...</td>\n",
              "      <td>...</td>\n",
              "      <td>...</td>\n",
              "      <td>...</td>\n",
              "      <td>...</td>\n",
              "      <td>...</td>\n",
              "      <td>...</td>\n",
              "      <td>...</td>\n",
              "      <td>...</td>\n",
              "      <td>...</td>\n",
              "      <td>...</td>\n",
              "      <td>...</td>\n",
              "    </tr>\n",
              "    <tr>\n",
              "      <th>2858</th>\n",
              "      <td>Venezuela (Bolivarian Republic of)</td>\n",
              "      <td>2015</td>\n",
              "      <td>Developing</td>\n",
              "      <td>74.1</td>\n",
              "      <td>157.0</td>\n",
              "      <td>9</td>\n",
              "      <td>2.56</td>\n",
              "      <td>0.000000</td>\n",
              "      <td>0</td>\n",
              "      <td>62.1</td>\n",
              "      <td>10</td>\n",
              "      <td>87.0</td>\n",
              "      <td>5.40</td>\n",
              "      <td>87.0</td>\n",
              "      <td>0.1</td>\n",
              "      <td>1.6</td>\n",
              "      <td>1.5</td>\n",
              "      <td>0.769</td>\n",
              "      <td>14.3</td>\n",
              "    </tr>\n",
              "    <tr>\n",
              "      <th>2874</th>\n",
              "      <td>Viet Nam</td>\n",
              "      <td>2015</td>\n",
              "      <td>Developing</td>\n",
              "      <td>76.0</td>\n",
              "      <td>127.0</td>\n",
              "      <td>28</td>\n",
              "      <td>2.56</td>\n",
              "      <td>0.000000</td>\n",
              "      <td>256</td>\n",
              "      <td>17.5</td>\n",
              "      <td>35</td>\n",
              "      <td>97.0</td>\n",
              "      <td>5.40</td>\n",
              "      <td>97.0</td>\n",
              "      <td>0.1</td>\n",
              "      <td>14.2</td>\n",
              "      <td>14.5</td>\n",
              "      <td>0.678</td>\n",
              "      <td>12.6</td>\n",
              "    </tr>\n",
              "    <tr>\n",
              "      <th>2890</th>\n",
              "      <td>Yemen</td>\n",
              "      <td>2015</td>\n",
              "      <td>Developing</td>\n",
              "      <td>65.7</td>\n",
              "      <td>224.0</td>\n",
              "      <td>37</td>\n",
              "      <td>2.56</td>\n",
              "      <td>0.000000</td>\n",
              "      <td>468</td>\n",
              "      <td>41.3</td>\n",
              "      <td>47</td>\n",
              "      <td>63.0</td>\n",
              "      <td>5.40</td>\n",
              "      <td>69.0</td>\n",
              "      <td>0.1</td>\n",
              "      <td>13.6</td>\n",
              "      <td>13.4</td>\n",
              "      <td>0.499</td>\n",
              "      <td>9.0</td>\n",
              "    </tr>\n",
              "    <tr>\n",
              "      <th>2906</th>\n",
              "      <td>Zambia</td>\n",
              "      <td>2015</td>\n",
              "      <td>Developing</td>\n",
              "      <td>61.8</td>\n",
              "      <td>33.0</td>\n",
              "      <td>27</td>\n",
              "      <td>2.56</td>\n",
              "      <td>0.000000</td>\n",
              "      <td>9</td>\n",
              "      <td>23.4</td>\n",
              "      <td>40</td>\n",
              "      <td>9.0</td>\n",
              "      <td>5.40</td>\n",
              "      <td>9.0</td>\n",
              "      <td>4.1</td>\n",
              "      <td>6.3</td>\n",
              "      <td>6.1</td>\n",
              "      <td>0.576</td>\n",
              "      <td>12.5</td>\n",
              "    </tr>\n",
              "    <tr>\n",
              "      <th>2922</th>\n",
              "      <td>Zimbabwe</td>\n",
              "      <td>2015</td>\n",
              "      <td>Developing</td>\n",
              "      <td>67.0</td>\n",
              "      <td>336.0</td>\n",
              "      <td>22</td>\n",
              "      <td>2.56</td>\n",
              "      <td>0.000000</td>\n",
              "      <td>0</td>\n",
              "      <td>31.8</td>\n",
              "      <td>32</td>\n",
              "      <td>88.0</td>\n",
              "      <td>5.40</td>\n",
              "      <td>87.0</td>\n",
              "      <td>6.2</td>\n",
              "      <td>5.6</td>\n",
              "      <td>5.5</td>\n",
              "      <td>0.507</td>\n",
              "      <td>10.3</td>\n",
              "    </tr>\n",
              "  </tbody>\n",
              "</table>\n",
              "<p>151 rows × 19 columns</p>\n",
              "</div>"
            ],
            "text/plain": [
              "                                 Country  ...  Schooling\n",
              "0                            Afghanistan  ...       10.1\n",
              "16                               Albania  ...       14.2\n",
              "32                               Algeria  ...       14.4\n",
              "48                                Angola  ...       11.4\n",
              "64                   Antigua and Barbuda  ...       13.9\n",
              "...                                  ...  ...        ...\n",
              "2858  Venezuela (Bolivarian Republic of)  ...       14.3\n",
              "2874                            Viet Nam  ...       12.6\n",
              "2890                               Yemen  ...        9.0\n",
              "2906                              Zambia  ...       12.5\n",
              "2922                            Zimbabwe  ...       10.3\n",
              "\n",
              "[151 rows x 19 columns]"
            ]
          },
          "metadata": {
            "tags": []
          },
          "execution_count": 34
        }
      ]
    },
    {
      "cell_type": "code",
      "metadata": {
        "id": "_BL70k_664RC",
        "colab": {
          "base_uri": "https://localhost:8080/",
          "height": 334
        },
        "outputId": "51438dc0-dade-4b14-ad17-b1c7a56a48ea"
      },
      "source": [
        "# Plot the probability distribution of life expectancy of developing countries for the year 2015. Also, fill the area for X < 60.\n",
        "\n",
        "array_2015 = np.sort(developing_df_2015['Life expectancy'])\n",
        "probs_60 = prob_density_func(np.arange(array_2015.min(), 61), np.mean(array_2015), np.std(array_2015))\n",
        "\n",
        "plt.figure(figsize=(15, 5))\n",
        "#Plot the normal curve with life expectancies on X-axis and pdf on Y-axis\n",
        "plt.plot(array_2015, prob_density_func(array_2015, np.mean(array_2015), np.std(array_2015)), color = 'black', linewidth = 2.5)\n",
        "# Fill the area for X < 60\n",
        "plt.fill_between(x = np.arange(array_2015.min(), 61), y1 = probs_60, facecolor = 'g', alpha = 0.5)\n",
        "plt.axvline(np.mean(array_2015), color='red', label=f'Mean Life expectancy = {np.mean(array_2015):.2f} years', linewidth=2) \n",
        "plt.xlabel(\"Life expectancy\")\n",
        "plt.ylabel(\"Probability Density\")\n",
        "plt.legend()\n",
        "plt.show()"
      ],
      "execution_count": null,
      "outputs": [
        {
          "output_type": "display_data",
          "data": {
            "image/png": "[encoded data removed]",
            "text/plain": [
              "<Figure size 1080x360 with 1 Axes>"
            ]
          },
          "metadata": {
            "tags": [],
            "needs_background": "light"
          }
        }
      ]
    },
    {
      "cell_type": "code",
      "metadata": {
        "id": "VHmYjkK_BnzZ",
        "colab": {
          "base_uri": "https://localhost:8080/",
          "height": 34
        },
        "outputId": "80577808-7007-41c4-ba35-24bcc0f7b043"
      },
      "source": [
        "# Calculate Z-score of 60 and find P(X < 60) by applying 'cdf()' function\n",
        "from scipy.stats import norm\n",
        "# Calculate the z-score for the 60\n",
        "zscore_60 = (60 - np.mean(array_2015)) / np.std(array_2015)\n",
        "\n",
        "prob_less_than_60 = norm.cdf(zscore_60)\n",
        "print(f\"{prob_less_than_60*100:.2f} % of developing countries have life expectancy below 60 years\")"
      ],
      "execution_count": null,
      "outputs": [
        {
          "output_type": "stream",
          "text": [
            "9.74 % of developing countries have life expectancy below 60 years\n"
          ],
          "name": "stdout"
        }
      ]
    },
    {
      "cell_type": "markdown",
      "metadata": {
        "id": "5XwkVEa0NPDP"
      },
      "source": [
        "\n",
        "\n",
        "**Q:** How much percentage of developing countries had extremely low life expectancy in the year 2015?\n",
        "\n",
        "**A:** Approximately 10%.\n",
        "\n"
      ]
    },
    {
      "cell_type": "code",
      "metadata": {
        "id": "u85EFiH2P-2D",
        "colab": {
          "base_uri": "https://localhost:8080/",
          "height": 700
        },
        "outputId": "b28a422e-ae8e-40e2-d044-d087b95c0925"
      },
      "source": [
        "# List down the name of the countries having life expectancy below 60 in the year 2015\n",
        "df_countries = developing_df_2015.loc[developing_df_2015['Life expectancy'] < 60]\n",
        "df_countries[['Country','Life expectancy']]"
      ],
      "execution_count": null,
      "outputs": [
        {
          "output_type": "execute_result",
          "data": {
            "text/html": [
              "<div>\n",
              "<style scoped>\n",
              "    .dataframe tbody tr th:only-of-type {\n",
              "        vertical-align: middle;\n",
              "    }\n",
              "\n",
              "    .dataframe tbody tr th {\n",
              "        vertical-align: top;\n",
              "    }\n",
              "\n",
              "    .dataframe thead th {\n",
              "        text-align: right;\n",
              "    }\n",
              "</style>\n",
              "<table border=\"1\" class=\"dataframe\">\n",
              "  <thead>\n",
              "    <tr style=\"text-align: right;\">\n",
              "      <th></th>\n",
              "      <th>Country</th>\n",
              "      <th>Life expectancy</th>\n",
              "    </tr>\n",
              "  </thead>\n",
              "  <tbody>\n",
              "    <tr>\n",
              "      <th>48</th>\n",
              "      <td>Angola</td>\n",
              "      <td>52.4</td>\n",
              "    </tr>\n",
              "    <tr>\n",
              "      <th>400</th>\n",
              "      <td>Burkina Faso</td>\n",
              "      <td>59.9</td>\n",
              "    </tr>\n",
              "    <tr>\n",
              "      <th>416</th>\n",
              "      <td>Burundi</td>\n",
              "      <td>59.6</td>\n",
              "    </tr>\n",
              "    <tr>\n",
              "      <th>432</th>\n",
              "      <td>Côte d'Ivoire</td>\n",
              "      <td>53.3</td>\n",
              "    </tr>\n",
              "    <tr>\n",
              "      <th>480</th>\n",
              "      <td>Cameroon</td>\n",
              "      <td>57.3</td>\n",
              "    </tr>\n",
              "    <tr>\n",
              "      <th>512</th>\n",
              "      <td>Central African Republic</td>\n",
              "      <td>52.5</td>\n",
              "    </tr>\n",
              "    <tr>\n",
              "      <th>528</th>\n",
              "      <td>Chad</td>\n",
              "      <td>53.1</td>\n",
              "    </tr>\n",
              "    <tr>\n",
              "      <th>721</th>\n",
              "      <td>Democratic Republic of the Congo</td>\n",
              "      <td>59.8</td>\n",
              "    </tr>\n",
              "    <tr>\n",
              "      <th>834</th>\n",
              "      <td>Equatorial Guinea</td>\n",
              "      <td>58.2</td>\n",
              "    </tr>\n",
              "    <tr>\n",
              "      <th>1074</th>\n",
              "      <td>Guinea</td>\n",
              "      <td>59.0</td>\n",
              "    </tr>\n",
              "    <tr>\n",
              "      <th>1090</th>\n",
              "      <td>Guinea-Bissau</td>\n",
              "      <td>58.9</td>\n",
              "    </tr>\n",
              "    <tr>\n",
              "      <th>1474</th>\n",
              "      <td>Lesotho</td>\n",
              "      <td>53.7</td>\n",
              "    </tr>\n",
              "    <tr>\n",
              "      <th>1570</th>\n",
              "      <td>Malawi</td>\n",
              "      <td>58.3</td>\n",
              "    </tr>\n",
              "    <tr>\n",
              "      <th>1618</th>\n",
              "      <td>Mali</td>\n",
              "      <td>58.2</td>\n",
              "    </tr>\n",
              "    <tr>\n",
              "      <th>1764</th>\n",
              "      <td>Mozambique</td>\n",
              "      <td>57.6</td>\n",
              "    </tr>\n",
              "    <tr>\n",
              "      <th>1893</th>\n",
              "      <td>Nigeria</td>\n",
              "      <td>54.5</td>\n",
              "    </tr>\n",
              "    <tr>\n",
              "      <th>2297</th>\n",
              "      <td>Sierra Leone</td>\n",
              "      <td>51.0</td>\n",
              "    </tr>\n",
              "    <tr>\n",
              "      <th>2377</th>\n",
              "      <td>Somalia</td>\n",
              "      <td>55.0</td>\n",
              "    </tr>\n",
              "    <tr>\n",
              "      <th>2409</th>\n",
              "      <td>South Sudan</td>\n",
              "      <td>57.3</td>\n",
              "    </tr>\n",
              "    <tr>\n",
              "      <th>2489</th>\n",
              "      <td>Swaziland</td>\n",
              "      <td>58.9</td>\n",
              "    </tr>\n",
              "    <tr>\n",
              "      <th>2617</th>\n",
              "      <td>Togo</td>\n",
              "      <td>59.9</td>\n",
              "    </tr>\n",
              "  </tbody>\n",
              "</table>\n",
              "</div>"
            ],
            "text/plain": [
              "                               Country  Life expectancy\n",
              "48                              Angola             52.4\n",
              "400                       Burkina Faso             59.9\n",
              "416                            Burundi             59.6\n",
              "432                      Côte d'Ivoire             53.3\n",
              "480                           Cameroon             57.3\n",
              "512           Central African Republic             52.5\n",
              "528                               Chad             53.1\n",
              "721   Democratic Republic of the Congo             59.8\n",
              "834                  Equatorial Guinea             58.2\n",
              "1074                            Guinea             59.0\n",
              "1090                     Guinea-Bissau             58.9\n",
              "1474                           Lesotho             53.7\n",
              "1570                            Malawi             58.3\n",
              "1618                              Mali             58.2\n",
              "1764                        Mozambique             57.6\n",
              "1893                           Nigeria             54.5\n",
              "2297                      Sierra Leone             51.0\n",
              "2377                           Somalia             55.0\n",
              "2409                       South Sudan             57.3\n",
              "2489                         Swaziland             58.9\n",
              "2617                              Togo             59.9"
            ]
          },
          "metadata": {
            "tags": []
          },
          "execution_count": 37
        }
      ]
    },
    {
      "cell_type": "markdown",
      "metadata": {
        "id": "AgX4YNVybwlh"
      },
      "source": [
        "**Q:** Which country had the lowest life expectancy in the year 2015?\n",
        "\n",
        "**A:** Angola"
      ]
    },
    {
      "cell_type": "markdown",
      "metadata": {
        "id": "sfZ03TLJnATc"
      },
      "source": [
        "---"
      ]
    },
    {
      "cell_type": "markdown",
      "metadata": {
        "id": "ewzFUrdtnB5F"
      },
      "source": [
        "#### 7. Finding Correlation \n",
        "\n",
        "Find the columns that are highly correlated with the `Life expectancy` column. For this, calculate the correlation coefficient values between all the columns and then use a heatmap to visualise these correlations."
      ]
    },
    {
      "cell_type": "code",
      "metadata": {
        "id": "KAYKIvT4Sk3F",
        "colab": {
          "base_uri": "https://localhost:8080/",
          "height": 949
        },
        "outputId": "53a0c20a-7b06-410e-ef51-ae458584d6ac"
      },
      "source": [
        "# calculate correlation coefficient for all columns of the original DataFrame\n",
        "corr_df = df.iloc[:,3:].corr()  # excluding first 3 columns\n",
        "# Use heatmap to observe correlations.\n",
        "import seaborn as sns\n",
        "plt.figure(figsize=(15,15))\n",
        "sns.heatmap(corr_df, square=True, annot=True, linewidths=.5,cmap='YlGnBu')\n",
        "plt.title(\"Correlation matrix among variables\")\n",
        "plt.show()"
      ],
      "execution_count": null,
      "outputs": [
        {
          "output_type": "display_data",
          "data": {
            "image/png": "[encoded data removed]",
            "text/plain": [
              "<Figure size 1080x1080 with 2 Axes>"
            ]
          },
          "metadata": {
            "tags": [],
            "needs_background": "light"
          }
        }
      ]
    },
    {
      "cell_type": "markdown",
      "metadata": {
        "id": "0d6SEpws3u73"
      },
      "source": [
        "**Q:** Which attribute(s) have an extremely strong **positive** correlation with `Life expectancy`?\n",
        "\n",
        "**A:** `Income composition of resources` and `Schooling`.\n",
        "\n",
        "This means that the countries having lower life expectancy are not using their available resources productively and thus are not able to keep its people alive in the long-term.  Also, the `Schooling` had a positively strong correlation which suggests that the number of years people spend learning in school can increase their life expectancy.\n",
        "\n",
        "\n",
        "**Q:** Which attribute(s) have an extremely strong **negative** correlation with `Life expectancy`?\n",
        "\n",
        "**A:** `Adult Mortality` and `HIV/AIDS`.\n",
        "\n",
        "This means that as the Adult mortality and HIV/AIDS death rates increase in a nation, it is likely to have a record of low life expectancy among its people.\n",
        "\n",
        "\n",
        "*All the other attributes other than these four have a positive or negative moderate correlation which implies that they do not have that much impact on life expectancy.*\n",
        "\n",
        "\n",
        "**Q:** By observing the correlation heatmap, find out other attributes or features that are highly correlated with each other (excluding Life expectancy).\n",
        "\n",
        "**A:** Following are the observations:\n",
        "\n",
        "- `thinness 1-19 years` and `thinness 1-19 years` are positively correlated.\n",
        "- `Infant deaths` and `under five deaths` share a perfect positive correlation.\n",
        "- `Polio` and `Diphtheria` are positively correlated.\n",
        "- `Income composition of resources` and `Schooling` are positively correlated.\n",
        "\n"
      ]
    },
    {
      "cell_type": "markdown",
      "metadata": {
        "id": "bXpq2A9PYzwL"
      },
      "source": [
        "---"
      ]
    }
  ]
}