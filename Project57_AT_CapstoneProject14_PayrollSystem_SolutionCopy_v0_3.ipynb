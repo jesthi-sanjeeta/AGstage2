{
  "nbformat": 4,
  "nbformat_minor": 0,
  "metadata": {
    "colab": {
      "name": "AT_CapstoneProject14_PayrollSystem_SolutionCopy_v0.3.ipynb",
      "provenance": [],
      "collapsed_sections": [],
      "include_colab_link": true
    },
    "kernelspec": {
      "name": "python3",
      "display_name": "Python 3"
    }
  },
  "cells": [
    {
      "cell_type": "markdown",
      "metadata": {
        "id": "view-in-github",
        "colab_type": "text"
      },
      "source": [
        "<a href=\"https://colab.research.google.com/github/jesthi-sanjeeta/AGstage2/blob/master/Project57_AT_CapstoneProject14_PayrollSystem_SolutionCopy_v0_3.ipynb\" target=\"_parent\"><img src=\"https://colab.research.google.com/assets/colab-badge.svg\" alt=\"Open In Colab\"/></a>"
      ]
    },
    {
      "cell_type": "markdown",
      "metadata": {
        "id": "NpPg8KXQCdhL"
      },
      "source": [
        "# Capstone Project 14: Payroll Calculation using OOP\n"
      ]
    },
    {
      "cell_type": "markdown",
      "metadata": {
        "id": "64Zy490qzVsZ"
      },
      "source": [
        "### Context\n",
        "\n",
        "**Payroll System** of any organisation calculates the amount the organisation owe to its employees based on various factors such as the time and the number of days they worked, their hourly wages or commission rate, and whether they took leave during the pay period. The system determines the gross pay by evaluating taxes and other deductions. On the payroll date, the system provides the employees with the details of payroll deposits in the form of a **pay slip**."
      ]
    },
    {
      "cell_type": "markdown",
      "metadata": {
        "id": "dSRd3do_m_M4"
      },
      "source": [
        "---"
      ]
    },
    {
      "cell_type": "markdown",
      "metadata": {
        "id": "2i36Yv3-MPY5"
      },
      "source": [
        "### Problem Statement \n",
        "\n",
        "\n",
        "ABC Finance company hired you as a software developer. Your first assignment is to create a simple  **Payroll System** for the company to perform payroll calculations based on an employee inheritance hierarchy that meets the following requirements:\n",
        "\n",
        "The company has **Salaried employees**: They are paid a fixed salary regardless of the number of hours they work. Their salary is calculated by adding the basic salary, TA (Travelling allowance), DA (Dearness allowance) and HRA (House rent allowance).\n",
        "\n",
        "To make the system reusable and extensible, the system must be constructed using **object-oriented** methodology.\n",
        "  "
      ]
    },
    {
      "cell_type": "markdown",
      "metadata": {
        "id": "YUVCq0gkq1BZ"
      },
      "source": [
        "---"
      ]
    },
    {
      "cell_type": "markdown",
      "metadata": {
        "id": "toeLx5LJpIV-"
      },
      "source": [
        "### Things To Do\n",
        "\n",
        "The payroll system must be able to perform the following tasks:\n",
        "\n",
        " - Allow the user to input employee details such as employee ID, employee name and social security number.\n",
        " - Reject duplicate employee ID and prompt the user to enter a unique employee ID for every new employee.\n",
        " - Store the employee records temporarily in a collection. \n",
        " - Display the information of all the employees on the screen.\n",
        " - Update different employees allowances.\n",
        " - Calculate monthly earnings of the employee based on their type. \n",
        "\n"
      ]
    },
    {
      "cell_type": "markdown",
      "metadata": {
        "id": "seBJxEBPq3PV"
      },
      "source": [
        "---"
      ]
    },
    {
      "cell_type": "markdown",
      "metadata": {
        "id": "j5RcICzZlJeZ"
      },
      "source": [
        "### 1. Create a Parent Class `Employee`.\n",
        "\n",
        "\n",
        "1. Create a parent class `Employee`. The constructor of this class must initialise the following private instance variables:\n",
        "\n",
        "  - `self.__empid = empid` : Employee ID\n",
        "  -  `self.__empname = empname` : Employee Name \n",
        "  - `self.__ssn = ssn` : Social Security Number\n",
        "\n",
        "2. Also, create an instance variable `income` and initialise it to `None`.\n",
        "\n",
        "3. Add getter and setter functions for `empid`, `empname` and `ssn`. Create getter function for `income`.\n",
        "\n",
        "3. Create an empty function `calculate_income()` which will be used or overriden in child classes to calculate the value of `income` variable based on the type of employee.\n",
        "\n",
        "4. Also, add a `__repr__()` function to print all the details of an employee including their calculated income.\n"
      ]
    },
    {
      "cell_type": "code",
      "metadata": {
        "id": "g0LB4jijVd3l"
      },
      "source": [
        "#  Create class 'Employee'. Add constructor to initialise variables. Add getter and setter functions.\n",
        "\n",
        "# Step 1: Create class 'Employee' using the class keyword.\n",
        "class Employee:\n",
        "  # Step 2: Add the '__init__()' method in the 'Employee' class.\n",
        "  def __init__(self, empid, empname, ssn):\n",
        "    # Store the inputs of the '__init__()' method in their instance variables.\n",
        "    self.__empid = empid\n",
        "    self.__empname = empname\n",
        "    self.__ssn = ssn\n",
        "    self.income = None\n",
        "  \n",
        "  # Step 3: Create the getter function 'def get_empid(self)' that returns the employee ID ('return self.__empid').\n",
        "  def get_empid(self):\n",
        "    return self.__empid\n",
        "  \n",
        "  # Create the getter function 'def get_empname(self)' that returns the employee name ('return self.__empname').\n",
        "  def get_empname(self):\n",
        "    return self.__empname\n",
        "\n",
        "  # Create the getter function 'def get_ssn(self)' that returns the SSN ('return self.__ssn').\n",
        "  def get_ssn(self):\n",
        "    return self.__ssn\n",
        "\n",
        "  # Create the getter function 'def get_income(self)' that returns the SSN ('return self.income'). \n",
        "  def get_income(self):\n",
        "    return self.income\n",
        "\n",
        "  # Step 4: Create the setter function 'def set_empname(self, newname)' that updates the employee name with a new name ('self.__empname = newname').\n",
        "  def set_empname(self, newname):\n",
        "    self.__empname = newname\n",
        "\n",
        "  # Step 5: Create the 'calculate_income()' function 'def calculate_income(self)' and just add 'pass' inside the function.\n",
        "  def calculate_income(self):\n",
        "    pass\n",
        "    \n",
        "  # Step 6: Add the '__repr__()' function in the 'Employee' class which returns the value of the 'empid', 'empname', 'ssn' and 'income' variables.\n",
        "  def __repr__(self):\n",
        "    return f\"Employee ID: {self.__empid}\\nEmployee Name: {self.__empname.title()}\\nEmployee SSN: {self.__ssn}\\nEmployee Income: {self.income}\"    "
      ],
      "execution_count": null,
      "outputs": []
    },
    {
      "cell_type": "markdown",
      "metadata": {
        "id": "ZdXklYTDrKFS"
      },
      "source": [
        "---"
      ]
    },
    {
      "cell_type": "markdown",
      "metadata": {
        "id": "WCmI9RJ5nhkA"
      },
      "source": [
        "###2. Create a Child Class `SalariedEmployee`.\n",
        "\n",
        "1. Create a class `SalariedEmployee` that inherits from the parent class `Employee`. In addition to the properties of the parent class, the constructor of this class must initialise the following instance variables: \n",
        "\n",
        "  - `ta`: Travelling allowance. Initialise it to any value between 500 and 1000.\n",
        "\n",
        "  - `da`: Dearness allowance. Initialise it to any value between 500 and 1000..\n",
        "\n",
        "  - `hra`: House rent allowance. Initialise it to any value between 500 and 1000.\n",
        "\n",
        "2. Create getter and setter functions for each instance variable.\n",
        "\n",
        "3. **Override** the function `calculate_income()` of the parent class `Employee`. Inside this function, ask the user to enter the basic salary and store it in the `basic` variable. Calculate the value of `income` variable in the following way:\n",
        "```\n",
        "income = basic + ta + da + hra\n",
        "```\n",
        "Return this calculated income.\n"
      ]
    },
    {
      "cell_type": "code",
      "metadata": {
        "id": "uV_EvB_kYm3Y"
      },
      "source": [
        "# Step 1: Create a child class 'SalariedEmployee'. \n",
        "class SalariedEmployee(Employee):\n",
        "  # Step 2: Add the '__init__()' method in the 'SalariedEmployee' class.\n",
        "  def __init__(self, empid, empname, ssn):\n",
        "    # Step 3: Call the parent class constructor using 'super()'\n",
        "    super().__init__(empid, empname, ssn)    \n",
        "    # Initialise the instance variable for travelling allowance with any value ('self.__ta = 600')\n",
        "    self.__ta = 600\n",
        "    # Initialise the instance variable for dearness allowance with any value ('self.__da = 1000')\n",
        "    self.__da = 1000\n",
        "    # Initialise the instance variable for house rent allowance with any value ('self.__hra = 1000')\n",
        "    self.__hra = 1000\n",
        "  \n",
        "  # Create the getter function 'def get_ta(self)' that returns the SSN ('return self.__ta').\n",
        "  def get_ta(self):\n",
        "    return self.__ta\n",
        "\n",
        "  # Create the getter function 'def get_hra(self)' that returns the SSN ('return self.__hra').\n",
        "  def get_hra(self):\n",
        "    return self.__hra\n",
        "\n",
        "  # Create the getter function 'def get_da(self)' that returns the SSN ('return self.__da').\n",
        "  def get_da(self):\n",
        "    return self.__da\n",
        "\n",
        "  # Create the setter function 'def set_ta(self, new_ta)' that updates the employee name with a new name ('self.__ta = new_ta').\n",
        "  def set_ta(self,new_ta):\n",
        "    self.__ta = new_ta\n",
        "  \n",
        "  # Create the setter function 'def set_da(self, new_da)' that updates the employee name with a new name ('self.__da = new_da').\n",
        "  def set_da(self,new_da):\n",
        "    self.__da = new_da \n",
        "\n",
        "  # Create the setter function 'def set_hra(self, new_hra)' that updates the employee name with a new name ('self.__hra = new_hra').\n",
        "  def set_hra(self,new_hra):\n",
        "    self.__hra = new_hra\n",
        "\n",
        "  # Add constructor and override 'calculate_income()' function.\n",
        "  def calculate_income(self):\n",
        "    basic = int(input(\"Enter the basic salary: \"))\n",
        "    self.income = basic + self.__ta + self.__da + self.__hra\n",
        "    return self.income  "
      ],
      "execution_count": null,
      "outputs": []
    },
    {
      "cell_type": "markdown",
      "metadata": {
        "id": "knB5aLw3rMQ6"
      },
      "source": [
        "---"
      ]
    },
    {
      "cell_type": "markdown",
      "metadata": {
        "id": "mYG2rs2PpnvV"
      },
      "source": [
        "### 3. Create a Class `Management`\n",
        "\n",
        "Create a class `Management`. We will use this class to store employee records. Inside this class, perform the following tasks: \n",
        "\n",
        "- **Step 1**: Create an empty list `emp_id_list` which will hold only employee ID of the existing employees. Also, create another empty list `emp_records` which will hold all the employee records.\n",
        "\n",
        "- **Step 2**: Create a function `existing_employee()` which will take `emp_id` as an input and will check whether this `emp_id` already exists in the list `emp_id_list`. If yes, then display a message `This employee ID already exists`. If it does not exists then add the new `emp_id` to the `emp_id_list`.\n",
        "\n",
        " ```\n",
        " def existing_employee(self,emp_id):\n",
        "    for i in Management.emp_id_list:\n",
        "      if i == emp_id:\n",
        "        print(\"This employee ID already exists\")\n",
        "        \n",
        "        return 0\n",
        "    Management.emp_id_list.append(emp_id)\n",
        "    return 1\n",
        " ```\n",
        "\n",
        "- **Step 3**: Create a class method `add_records()` which accepts the current `employee` object as a parameter. Inside this method:\n",
        "  - Create an empty dictionary. \n",
        "  - Store all the properties of `employee` object i.e. Employee ID, Employee Name, SSN and their income in this dictionary in the form of key-value pairs. \n",
        "  - Append this dictionary to the list `emp_records`. \n",
        "  \n",
        "  In this way, we will add the record of every new employee to the `emp_records` list.\n",
        "\n",
        "- **Step 4**:  Create a class method `display_records()` which will display the records of all employees stored in `emp_records` list.\n",
        "\n",
        "\n",
        "\n"
      ]
    },
    {
      "cell_type": "code",
      "metadata": {
        "id": "CqeehS9Fpstt"
      },
      "source": [
        "# Create class 'Management'.\n",
        "class Management:\n",
        "  emp_id_list = []\n",
        "  emp_records = []\n",
        " \n",
        "  # Create 'existing_employee' function\n",
        "  def existing_employee(self,emp_id):\n",
        "    for i in Management.emp_id_list:\n",
        "      if i == emp_id:\n",
        "        print(\"This employee ID already exists\")\n",
        "        \n",
        "        return 0\n",
        "    Management.emp_id_list.append(emp_id)\n",
        "    return 1\n",
        "  \n",
        "  # Create class method 'add_records()'\n",
        "  @classmethod\n",
        "  def add_records(cls, employee):\n",
        "    emp = {}\n",
        "    emp['Id'] = employee.get_empid()\n",
        "    emp['Name'] = employee.get_empname()\n",
        "    emp['SSN'] = employee.get_ssn()\n",
        "    emp['Salary'] = employee.income\n",
        "    Management.emp_records.append(emp)\n",
        "\n",
        "   # Create class method 'display_emp()' \n",
        "  @classmethod\n",
        "  def display_records(cls):\n",
        "    for i in Management.emp_records:\n",
        "      for j in i:\n",
        "        print(f\"{j} : {i[j]}\")\n",
        "      print(\"------------------------------------\")\n",
        "    print(\"***************************************\")\n"
      ],
      "execution_count": null,
      "outputs": []
    },
    {
      "cell_type": "markdown",
      "metadata": {
        "id": "ks1gUqLDHpQ0"
      },
      "source": [
        "**Hints:**\n",
        "\n",
        "1. You can create the `add_records()` class method using the below code,\n",
        "\n",
        " ```\n",
        " @classmethod\n",
        "  def add_records(cls, employee):\n",
        "    emp = {}\n",
        "    emp['Id'] = employee.get_empid()\n",
        "    emp['Name'] = employee.get_empname()\n",
        "    emp['SSN'] = employee.get_ssn()\n",
        "    emp['Salary'] = employee.income\n",
        "    Management.emp_records.append(emp)\n",
        " ```\n",
        "\n",
        "2. You can create the `display_records()` class method using the below code,\n",
        "\n",
        " ```\n",
        " @classmethod\n",
        "  def display_records(cls):\n",
        "    for i in Management.emp_records:\n",
        "      for j in i:\n",
        "        print(f\"{j} : {i[j]}\")\n",
        "      print(\"------------------------------------\")\n",
        "    print(\"***************************************\")\n",
        " ```"
      ]
    },
    {
      "cell_type": "markdown",
      "metadata": {
        "id": "qzgMfj_cptoD"
      },
      "source": [
        "---"
      ]
    },
    {
      "cell_type": "markdown",
      "metadata": {
        "id": "BDJL4PuAhU58"
      },
      "source": [
        "### 4. Creating Objects and Calling the Functions\n",
        "\n",
        "Please execute the below code cell to create the Objects and call the Functions."
      ]
    },
    {
      "cell_type": "code",
      "metadata": {
        "id": "6BqwZUTVidd8",
        "colab": {
          "base_uri": "https://localhost:8080/"
        },
        "outputId": "bf2f0ba6-3624-4933-a801-3088ebf4202c"
      },
      "source": [
        "# Create an infinite while loop.\n",
        "while True:\n",
        "  id = input(\"Enter employee ID: \")\n",
        "  manage = Management()\n",
        "\n",
        "  while manage.existing_employee(id) == 0:\n",
        "    print(\"Please enter a new employee id \")\n",
        "    id = input(\"Enter employee ID: \")\n",
        "  name = input(\"Enter employee name: \")\n",
        "  ssn = input(\"Enter social security number: \")\n",
        "    \n",
        "  emp1 = SalariedEmployee(id, name, ssn)\n",
        "    \n",
        "  while True:\n",
        "    print(f\"\\nTravelling allowance is {emp1.get_ta()}\\nDearness allowance is {emp1.get_da()}\\nHouse Rent allowance is {emp1.get_hra()}\\n\")\n",
        "    print(\"-----Enter your choice------\")\n",
        "    user_choice = input(\"Enter 1 for updating Travelling allowance(TA)\\nEnter 2 for updating Dearness allowance(DA)\\nEnter 3 for updating House Rent allowance(HRA)\\nEnter 4 to skip updating: \")\n",
        "    while user_choice not in ['1','2','3','4']:\n",
        "      print(\"-----Please enter a valid option------\")\n",
        "      user_choice = input(\"Enter 1 for updating Travelling allowance(TA)\\nEnter 2 for updating Dearness allowance(DA)\\nEnter 3 for updating House Rent allowance(HRA)\\nEnter 4 to skip updating: \")\n",
        "     \n",
        "    if user_choice == '1':\n",
        "      new_ta = int(input(\"\\nEnter the new Travelling Allowance: \"))\n",
        "      emp1.set_ta(new_ta)\n",
        "      print(f\"Travelling allowance is {emp1.get_ta()}\\n\")\n",
        "    elif user_choice == '2':\n",
        "      new_da = int(input(\"Enter the new Dearness Allowance: \"))\n",
        "      emp1.set_da(new_da)\n",
        "      print(f\"Dearness allowance is {emp1.get_da()}\\n\")\n",
        "    elif user_choice == '3':\n",
        "      new_hra = int(input(\"Enter the new House Rent Allowance: \"))\n",
        "      emp1.set_hra(new_hra)\n",
        "      print(f\"House Rent allowance is {emp1.get_hra()}\\n\")\n",
        "    else:\n",
        "      break      \n",
        "    print(\"----------------------------------------\")\n",
        "      \n",
        "    choice = int(input(\"Do you wish to continue updating TA, DA or HRA?\\nEnter 1 for YES\\nEnter 2 for NO\\n\"))\n",
        " \n",
        "    if choice == 2:\n",
        "      break\n",
        "\n",
        "   \n",
        "  print(f\"\\n--------Calculating Income----------------\")  \n",
        "  emp1.calculate_income()\n",
        "  print(\"\\n--------Employee Details----------------\")\n",
        "  print(emp1)\n",
        "  print(\"\\n----------------------------------------\")\n",
        "  Management.add_records(emp1)\n",
        "  choice_display=int(input(\"\\nView All Records?\\nEnter 1 for YES\\nEnter 2 for NO\\n\"))\n",
        "  if choice_display == 1:\n",
        "    print(\"Employee Records\")\n",
        "    print(\"\\n----------------------------------------\")\n",
        "    Management.display_records()\n",
        "\n",
        "  choice=int(input(\"\\nDo you wish to continue?\\nEnter 1 for YES\\nEnter 2 for NO\\n\"))\n",
        " \n",
        "  if choice == 2:\n",
        "    print(\"Thank you\")\n",
        "    \n",
        "    break"
      ],
      "execution_count": null,
      "outputs": [
        {
          "output_type": "stream",
          "text": [
            "Enter employee ID: 12345\n",
            "Enter employee name: Kevin\n",
            "Enter social security number: 987723\n",
            "\n",
            "Travelling allowance is 600\n",
            "Dearness allowance is 1000\n",
            "House Rent allowance is 1000\n",
            "\n",
            "-----Enter your choice------\n",
            "Enter 1 for updating Travelling allowance(TA)\n",
            "Enter 2 for updating Dearness allowance(DA)\n",
            "Enter 3 for updating House Rent allowance(HRA)\n",
            "Enter 4 to skip updating: 4\n",
            "\n",
            "--------Calculating Income----------------\n",
            "Enter the basic salary: 42000\n",
            "\n",
            "--------Employee Details----------------\n",
            "Employee ID: 12345\n",
            "Employee Name: Kevin\n",
            "Employee SSN: 987723\n",
            "Employee Income: 44600\n",
            "\n",
            "----------------------------------------\n",
            "\n",
            "View All Records?\n",
            "Enter 1 for YES\n",
            "Enter 2 for NO\n",
            "1\n",
            "Employee Records\n",
            "\n",
            "----------------------------------------\n",
            "Id : 12345\n",
            "Name : Kevin\n",
            "SSN : 987723\n",
            "Salary : 44600\n",
            "------------------------------------\n",
            "***************************************\n",
            "\n",
            "Do you wish to continue?\n",
            "Enter 1 for YES\n",
            "Enter 2 for NO\n",
            "2\n",
            "Thank you\n"
          ],
          "name": "stdout"
        }
      ]
    },
    {
      "cell_type": "markdown",
      "metadata": {
        "id": "KgyYx3sCa3Qc"
      },
      "source": [
        "In the above code cell, \n",
        "\n",
        "We are creating an infinite `while` loop. Inside this `while` loop, we are performing the following tasks:\n",
        " \n",
        "1. Asking the user to enter the employee ID, employee name and social security number and store each one of them in separate variables. Also checking whether the employee ID entered by the user already exists in the records by calling the `existing_employee()` function of the `Management` object. If it exists, prompt the user to re-enter a new employee ID.\n",
        "\n",
        "2. Creating an object of `SalariedEmployee` class, passing the employee ID, employee name and social security number as parameters while creating the object of the `SalariedEmployee` class and we are performing the following steps:\n",
        "\n",
        "      - **Step 2.1:** Creating an infinite while loop and asking the user to enter one of the following options:\n",
        "```\n",
        "    Enter 1 for updating Travelling allowance(TA)\n",
        "    Enter 2 for updating Dearness allowance(DA)\n",
        "    Enter 3 for updating House Rent allowance(HRA)\n",
        "    Enter 4 to skip updating\n",
        "```\n",
        "      - **Step 2.2:** Taking the user input and storing it in a variable `user_choice`. Checking whether the user entered any input other than 1, 2, 3 or 4 . If yes, then we are displaying a message `\"Please enter a valid option\"` and keep on asking for user input unless the user enters a valid choice.\n",
        "\n",
        "      - **Step 2.3:** If the user enters 1, 2 or 3 we are calling the respective setter function and displaying the updated allowance. For option 4, we are breaking the inner while loop created in step 2.1 using the `break` statement.\n",
        "\n",
        "3. Then we are asking the user whether they wish to continue the updation. If no, then we are breaking the inner `while` loop.\n",
        "      \n",
        "4. As a next task, we are calculating the payroll. For this, we are calling the `calculate_income()` function using the object of the child class and printing the details of the employee along with their calculated income.\n",
        "\n",
        "5. Then we are calling the class method `add_records()` of class `Management` and passing the current employee object as input to the method. \n",
        "\n",
        "6. Asking the user whether they wish to view the records of all employees. If yes, we are displaying the records using the class method `display_records()` of the class `Management`.\n",
        "\n",
        "7. As a final task, we are asking the user whether they wish to continue running the application. If no, then we are breaking the infinite `while` loop after showing the **Thank you** message. "
      ]
    },
    {
      "cell_type": "markdown",
      "metadata": {
        "id": "gJ49xrTorOiU"
      },
      "source": [
        "---"
      ]
    }
  ]
}